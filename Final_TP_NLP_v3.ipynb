{
  "nbformat": 4,
  "nbformat_minor": 0,
  "metadata": {
    "accelerator": "TPU",
    "colab": {
      "name": "Final TP_NLP_v3.ipynb",
      "provenance": [],
      "collapsed_sections": []
    },
    "kernelspec": {
      "display_name": "Python 3",
      "name": "python3"
    }
  },
  "cells": [
    {
      "cell_type": "markdown",
      "metadata": {
        "id": "LUgCLIoyCK4w"
      },
      "source": [
        "# 1 - Import y instalación de Librerías"
      ]
    },
    {
      "cell_type": "code",
      "metadata": {
        "colab": {
          "base_uri": "https://localhost:8080/"
        },
        "id": "iH4x930VvJDN",
        "outputId": "1bf083aa-344a-4b89-f85b-e92ce5d11e41"
      },
      "source": [
        "!pip install langdetect"
      ],
      "execution_count": null,
      "outputs": [
        {
          "output_type": "stream",
          "text": [
            "Collecting langdetect\n",
            "\u001b[?25l  Downloading https://files.pythonhosted.org/packages/56/a3/8407c1e62d5980188b4acc45ef3d94b933d14a2ebc9ef3505f22cf772570/langdetect-1.0.8.tar.gz (981kB)\n",
            "\u001b[K     |████████████████████████████████| 983kB 5.4MB/s \n",
            "\u001b[?25hRequirement already satisfied: six in /usr/local/lib/python3.6/dist-packages (from langdetect) (1.15.0)\n",
            "Building wheels for collected packages: langdetect\n",
            "  Building wheel for langdetect (setup.py) ... \u001b[?25l\u001b[?25hdone\n",
            "  Created wheel for langdetect: filename=langdetect-1.0.8-cp36-none-any.whl size=993193 sha256=9774300639f2c3846d39adbd5c3aa1611d80c70224948a45c0f0400782979e4f\n",
            "  Stored in directory: /root/.cache/pip/wheels/8d/b3/aa/6d99de9f3841d7d3d40a60ea06e6d669e8e5012e6c8b947a57\n",
            "Successfully built langdetect\n",
            "Installing collected packages: langdetect\n",
            "Successfully installed langdetect-1.0.8\n"
          ],
          "name": "stdout"
        }
      ]
    },
    {
      "cell_type": "code",
      "metadata": {
        "colab": {
          "base_uri": "https://localhost:8080/"
        },
        "id": "qSlAp8cyuBgJ",
        "outputId": "8f3c5ef7-aa6c-4d04-89bb-2ab07cf9bcb3"
      },
      "source": [
        "import pandas as pd\n",
        "import numpy as np\n",
        "import matplotlib.pyplot as plt\n",
        "import seaborn as sns\n",
        "%matplotlib inline\n",
        "from matplotlib.gridspec import GridSpec\n",
        "import plotly.offline as py\n",
        "import plotly.express as px\n",
        "import plotly.graph_objs as go\n",
        "from wordcloud import WordCloud\n",
        "from collections import Counter\n",
        "from PIL import Image\n",
        "\n",
        "# DataPrep\n",
        "from langdetect import detect\n",
        "from nltk.corpus import stopwords\n",
        "import re\n",
        "import nltk\n",
        "nltk.download('stopwords')\n",
        "nltk.download('rslp')\n",
        "\n",
        "from nltk.stem import RSLPStemmer\n",
        "from sklearn.feature_extraction.text import CountVectorizer, TfidfVectorizer\n",
        "from sklearn.base import BaseEstimator, TransformerMixin\n",
        "from sklearn.pipeline import Pipeline\n",
        "import joblib\n",
        "\n",
        "# Modeling\n",
        "from sklearn.model_selection import train_test_split\n",
        "from sklearn.linear_model import LogisticRegression\n",
        "from sklearn.model_selection import RandomizedSearchCV\n",
        "from sklearn.naive_bayes import GaussianNB\n",
        "from sklearn.metrics import classification_report, accuracy_score, roc_curve, auc, roc_auc_score, plot_roc_curve\n",
        "import lightgbm as lgb"
      ],
      "execution_count": null,
      "outputs": [
        {
          "output_type": "stream",
          "text": [
            "[nltk_data] Downloading package stopwords to /root/nltk_data...\n",
            "[nltk_data]   Unzipping corpora/stopwords.zip.\n",
            "[nltk_data] Downloading package rslp to /root/nltk_data...\n",
            "[nltk_data]   Unzipping stemmers/rslp.zip.\n"
          ],
          "name": "stdout"
        }
      ]
    },
    {
      "cell_type": "markdown",
      "metadata": {
        "id": "MJmHL8kyCVfs"
      },
      "source": [
        "# 2 - Carga de Datos"
      ]
    },
    {
      "cell_type": "code",
      "metadata": {
        "colab": {
          "base_uri": "https://localhost:8080/"
        },
        "id": "t0SE0HZDBLAS",
        "outputId": "8de49e2b-a2a5-48f6-f971-6086691f6bee"
      },
      "source": [
        "from google.colab import drive\n",
        "drive.mount('/content/drive')"
      ],
      "execution_count": null,
      "outputs": [
        {
          "output_type": "stream",
          "text": [
            "Mounted at /content/drive\n"
          ],
          "name": "stdout"
        }
      ]
    },
    {
      "cell_type": "code",
      "metadata": {
        "id": "TPxXiD-tC4R7"
      },
      "source": [
        "path = \"drive/My Drive/reviews_yelp_nn.csv\"\n",
        "data = pd.read_csv(path, sep=\"\\t\", low_memory=False)"
      ],
      "execution_count": null,
      "outputs": []
    },
    {
      "cell_type": "code",
      "metadata": {
        "id": "TwjszqxkGk4I"
      },
      "source": [
        "df = data.copy()"
      ],
      "execution_count": null,
      "outputs": []
    },
    {
      "cell_type": "markdown",
      "metadata": {
        "id": "HianpTv7C6Yc"
      },
      "source": [
        "# 3 - EDA"
      ]
    },
    {
      "cell_type": "code",
      "metadata": {
        "colab": {
          "base_uri": "https://localhost:8080/"
        },
        "id": "H7wlCFEzDXFB",
        "outputId": "0c7c4be4-4b97-410b-c9a6-13395a80d7d3"
      },
      "source": [
        "df.info()"
      ],
      "execution_count": null,
      "outputs": [
        {
          "output_type": "stream",
          "text": [
            "<class 'pandas.core.frame.DataFrame'>\n",
            "RangeIndex: 3342958 entries, 0 to 3342957\n",
            "Data columns (total 9 columns):\n",
            " #   Column       Dtype  \n",
            "---  ------       -----  \n",
            " 0   business_id  object \n",
            " 1   cool         object \n",
            " 2   date         object \n",
            " 3   funny        float64\n",
            " 4   review_id    object \n",
            " 5   stars        float64\n",
            " 6   text         object \n",
            " 7   useful       float64\n",
            " 8   user_id      object \n",
            "dtypes: float64(3), object(6)\n",
            "memory usage: 229.5+ MB\n"
          ],
          "name": "stdout"
        }
      ]
    },
    {
      "cell_type": "code",
      "metadata": {
        "colab": {
          "base_uri": "https://localhost:8080/",
          "height": 195
        },
        "id": "xgAYDojcOAd6",
        "outputId": "ec4301aa-13e4-4681-a870-3ac4fc6aa3c7"
      },
      "source": [
        "df.head()"
      ],
      "execution_count": null,
      "outputs": [
        {
          "output_type": "execute_result",
          "data": {
            "text/html": [
              "<div>\n",
              "<style scoped>\n",
              "    .dataframe tbody tr th:only-of-type {\n",
              "        vertical-align: middle;\n",
              "    }\n",
              "\n",
              "    .dataframe tbody tr th {\n",
              "        vertical-align: top;\n",
              "    }\n",
              "\n",
              "    .dataframe thead th {\n",
              "        text-align: right;\n",
              "    }\n",
              "</style>\n",
              "<table border=\"1\" class=\"dataframe\">\n",
              "  <thead>\n",
              "    <tr style=\"text-align: right;\">\n",
              "      <th></th>\n",
              "      <th>business_id</th>\n",
              "      <th>cool</th>\n",
              "      <th>date</th>\n",
              "      <th>funny</th>\n",
              "      <th>review_id</th>\n",
              "      <th>stars</th>\n",
              "      <th>text</th>\n",
              "      <th>useful</th>\n",
              "      <th>user_id</th>\n",
              "    </tr>\n",
              "  </thead>\n",
              "  <tbody>\n",
              "    <tr>\n",
              "      <th>0</th>\n",
              "      <td>EhGPj8iJDIdaHnWg9d5BgA</td>\n",
              "      <td>0</td>\n",
              "      <td>2016-04-20 14:30:53</td>\n",
              "      <td>0.0</td>\n",
              "      <td>uJRdHLz4XNmDK5pOkWbZNA</td>\n",
              "      <td>5.0</td>\n",
              "      <td>Best Dim Sum in the city, their cart service i...</td>\n",
              "      <td>0.0</td>\n",
              "      <td>POETn3fQcZ8ngLAARCATSg</td>\n",
              "    </tr>\n",
              "    <tr>\n",
              "      <th>1</th>\n",
              "      <td>VPcFNI-6HICR5SJM--KjNA</td>\n",
              "      <td>5</td>\n",
              "      <td>2013-05-14 03:08:12</td>\n",
              "      <td>2.0</td>\n",
              "      <td>TlPh8jy8bt_TSGfjEw-pvA</td>\n",
              "      <td>5.0</td>\n",
              "      <td>How... HOW did I not head down here sooner? Fo...</td>\n",
              "      <td>7.0</td>\n",
              "      <td>oUK6Xs5dPPnP4whFeZExGg</td>\n",
              "    </tr>\n",
              "    <tr>\n",
              "      <th>2</th>\n",
              "      <td>ugdUuApH3pYXggW5qpbALg</td>\n",
              "      <td>0</td>\n",
              "      <td>2016-08-26 16:51:37</td>\n",
              "      <td>0.0</td>\n",
              "      <td>GmoBAVE1pTo0kjmeKrXmLQ</td>\n",
              "      <td>4.0</td>\n",
              "      <td>Carnitas were wonderful. First time there and ...</td>\n",
              "      <td>0.0</td>\n",
              "      <td>SiaSUNlKQK7f57WBPmyyNw</td>\n",
              "    </tr>\n",
              "    <tr>\n",
              "      <th>3</th>\n",
              "      <td>3fCxmmg8nHGaE5upJWQUrw</td>\n",
              "      <td>0</td>\n",
              "      <td>2016-03-24 17:23:19</td>\n",
              "      <td>0.0</td>\n",
              "      <td>ZHuM9P81zfuNuFZ5ThXNRg</td>\n",
              "      <td>5.0</td>\n",
              "      <td>Great staff who are always willing to help. I ...</td>\n",
              "      <td>0.0</td>\n",
              "      <td>PsH5Qi8R69WAlhNv8mXWRA</td>\n",
              "    </tr>\n",
              "    <tr>\n",
              "      <th>4</th>\n",
              "      <td>LAqbIi2TDn8BDvPB0nLVhQ</td>\n",
              "      <td>1</td>\n",
              "      <td>2012-10-25 15:02:48</td>\n",
              "      <td>0.0</td>\n",
              "      <td>-2Ce00mfWYP20yt7k6kARg</td>\n",
              "      <td>3.0</td>\n",
              "      <td>This place is bigger, brighter, new so it's cl...</td>\n",
              "      <td>3.0</td>\n",
              "      <td>r-zUIQPaHzvIyL93wQaoiQ</td>\n",
              "    </tr>\n",
              "  </tbody>\n",
              "</table>\n",
              "</div>"
            ],
            "text/plain": [
              "              business_id cool  ... useful                 user_id\n",
              "0  EhGPj8iJDIdaHnWg9d5BgA    0  ...    0.0  POETn3fQcZ8ngLAARCATSg\n",
              "1  VPcFNI-6HICR5SJM--KjNA    5  ...    7.0  oUK6Xs5dPPnP4whFeZExGg\n",
              "2  ugdUuApH3pYXggW5qpbALg    0  ...    0.0  SiaSUNlKQK7f57WBPmyyNw\n",
              "3  3fCxmmg8nHGaE5upJWQUrw    0  ...    0.0  PsH5Qi8R69WAlhNv8mXWRA\n",
              "4  LAqbIi2TDn8BDvPB0nLVhQ    1  ...    3.0  r-zUIQPaHzvIyL93wQaoiQ\n",
              "\n",
              "[5 rows x 9 columns]"
            ]
          },
          "metadata": {
            "tags": []
          },
          "execution_count": 7
        }
      ]
    },
    {
      "cell_type": "markdown",
      "metadata": {
        "id": "2CYEN_iBDD7s"
      },
      "source": [
        "##Nulos"
      ]
    },
    {
      "cell_type": "code",
      "metadata": {
        "colab": {
          "base_uri": "https://localhost:8080/"
        },
        "id": "qKsww_Z9Dl_V",
        "outputId": "e27143f1-684f-431b-b772-7d79fb9c460a"
      },
      "source": [
        "#Cantidad datos que está en blanco en cada columna\n",
        "df.isnull().sum()"
      ],
      "execution_count": null,
      "outputs": [
        {
          "output_type": "execute_result",
          "data": {
            "text/plain": [
              "business_id     0\n",
              "cool            3\n",
              "date            5\n",
              "funny           9\n",
              "review_id       9\n",
              "stars           9\n",
              "text           10\n",
              "useful         14\n",
              "user_id        14\n",
              "dtype: int64"
            ]
          },
          "metadata": {
            "tags": []
          },
          "execution_count": 8
        }
      ]
    },
    {
      "cell_type": "markdown",
      "metadata": {
        "id": "D2DK7DpnG2Yt"
      },
      "source": [
        "Como la cantidad de nulos es muy pequeña, decidimos eliminar estos valores."
      ]
    },
    {
      "cell_type": "code",
      "metadata": {
        "id": "dzYqu9QvCzxM"
      },
      "source": [
        "df = df.dropna()"
      ],
      "execution_count": null,
      "outputs": []
    },
    {
      "cell_type": "code",
      "metadata": {
        "colab": {
          "base_uri": "https://localhost:8080/"
        },
        "id": "_gH1Q09NGhiC",
        "outputId": "9fef49fc-10b3-4a5f-81d5-63106ddf2a06"
      },
      "source": [
        "df.isnull().sum()"
      ],
      "execution_count": null,
      "outputs": [
        {
          "output_type": "execute_result",
          "data": {
            "text/plain": [
              "business_id    0\n",
              "cool           0\n",
              "date           0\n",
              "funny          0\n",
              "review_id      0\n",
              "stars          0\n",
              "text           0\n",
              "useful         0\n",
              "user_id        0\n",
              "dtype: int64"
            ]
          },
          "metadata": {
            "tags": []
          },
          "execution_count": 10
        }
      ]
    },
    {
      "cell_type": "markdown",
      "metadata": {
        "id": "NAho41WzD9e3"
      },
      "source": [
        "### Manejo variable"
      ]
    },
    {
      "cell_type": "markdown",
      "metadata": {
        "id": "rmk_6HFYED4D"
      },
      "source": [
        "Esta etapa tiene como objetivo ajustar los tipos de datos en función de su entrada."
      ]
    },
    {
      "cell_type": "markdown",
      "metadata": {
        "id": "HW4fhyZuNpg8"
      },
      "source": [
        "#### Date"
      ]
    },
    {
      "cell_type": "code",
      "metadata": {
        "colab": {
          "base_uri": "https://localhost:8080/"
        },
        "id": "VQ6HMNeWE6e7",
        "outputId": "a6797bfd-228d-49e1-a23d-4ee8f6cae2d5"
      },
      "source": [
        "df['date'].dtype"
      ],
      "execution_count": null,
      "outputs": [
        {
          "output_type": "execute_result",
          "data": {
            "text/plain": [
              "dtype('O')"
            ]
          },
          "metadata": {
            "tags": []
          },
          "execution_count": 11
        }
      ]
    },
    {
      "cell_type": "code",
      "metadata": {
        "id": "OaxmdZXXKERU"
      },
      "source": [
        "df['date'] = pd.to_datetime(df['date'], infer_datetime_format=True, errors='coerce')"
      ],
      "execution_count": null,
      "outputs": []
    },
    {
      "cell_type": "code",
      "metadata": {
        "colab": {
          "base_uri": "https://localhost:8080/"
        },
        "id": "D5n6wItKCzvv",
        "outputId": "458972e0-ca4f-4ee9-8f6f-16b8eb20ff54"
      },
      "source": [
        "df['date'].dtype"
      ],
      "execution_count": null,
      "outputs": [
        {
          "output_type": "execute_result",
          "data": {
            "text/plain": [
              "dtype('<M8[ns]')"
            ]
          },
          "metadata": {
            "tags": []
          },
          "execution_count": 13
        }
      ]
    },
    {
      "cell_type": "markdown",
      "metadata": {
        "id": "JBwrmF0gNuCH"
      },
      "source": [
        "#### Cool"
      ]
    },
    {
      "cell_type": "code",
      "metadata": {
        "colab": {
          "base_uri": "https://localhost:8080/"
        },
        "id": "4fOFBHNjNmaw",
        "outputId": "ed8a6de0-83df-4ca4-a459-cb16996969a3"
      },
      "source": [
        "df['cool'].dtype"
      ],
      "execution_count": null,
      "outputs": [
        {
          "output_type": "execute_result",
          "data": {
            "text/plain": [
              "dtype('O')"
            ]
          },
          "metadata": {
            "tags": []
          },
          "execution_count": 14
        }
      ]
    },
    {
      "cell_type": "code",
      "metadata": {
        "colab": {
          "base_uri": "https://localhost:8080/"
        },
        "id": "J14XWzrpNmdl",
        "outputId": "6519c1d8-3979-4ac5-c432-5f4c152adbbb"
      },
      "source": [
        "df['cool'].value_counts()"
      ],
      "execution_count": null,
      "outputs": [
        {
          "output_type": "execute_result",
          "data": {
            "text/plain": [
              "0      2507467\n",
              "1       506036\n",
              "2       156793\n",
              "3        64639\n",
              "4        33061\n",
              "        ...   \n",
              "192          1\n",
              "506          1\n",
              "135          1\n",
              "118          1\n",
              "-1           1\n",
              "Name: cool, Length: 168, dtype: int64"
            ]
          },
          "metadata": {
            "tags": []
          },
          "execution_count": 15
        }
      ]
    },
    {
      "cell_type": "code",
      "metadata": {
        "id": "dl6mDTGHNmnS"
      },
      "source": [
        "df['cool'] = df['cool'].astype(int)"
      ],
      "execution_count": null,
      "outputs": []
    },
    {
      "cell_type": "code",
      "metadata": {
        "colab": {
          "base_uri": "https://localhost:8080/"
        },
        "id": "BbNJ6hu4NnI0",
        "outputId": "34aabeef-6530-419d-8d7f-462729e6bd90"
      },
      "source": [
        "df['cool'].dtype"
      ],
      "execution_count": null,
      "outputs": [
        {
          "output_type": "execute_result",
          "data": {
            "text/plain": [
              "dtype('int64')"
            ]
          },
          "metadata": {
            "tags": []
          },
          "execution_count": 17
        }
      ]
    },
    {
      "cell_type": "markdown",
      "metadata": {
        "id": "MB7zEnBrOnfX"
      },
      "source": [
        "#### Funny"
      ]
    },
    {
      "cell_type": "code",
      "metadata": {
        "colab": {
          "base_uri": "https://localhost:8080/"
        },
        "id": "DZYqDIi8OwNv",
        "outputId": "5118ca6b-0e7f-4045-fc58-c99d12e06d7c"
      },
      "source": [
        "df['funny'].dtype"
      ],
      "execution_count": null,
      "outputs": [
        {
          "output_type": "execute_result",
          "data": {
            "text/plain": [
              "dtype('float64')"
            ]
          },
          "metadata": {
            "tags": []
          },
          "execution_count": 18
        }
      ]
    },
    {
      "cell_type": "code",
      "metadata": {
        "colab": {
          "base_uri": "https://localhost:8080/"
        },
        "id": "TuHCLtZ7NnSk",
        "outputId": "88895915-c6ca-4f52-944b-43d4addc724f"
      },
      "source": [
        "data['funny'].unique()"
      ],
      "execution_count": null,
      "outputs": [
        {
          "output_type": "execute_result",
          "data": {
            "text/plain": [
              "array([  0.,   2.,   1.,   3.,   4.,  18.,   7.,   6.,   5.,  15.,   9.,\n",
              "         8.,  10.,  13.,  16.,  19.,  11.,  12.,  17.,  34.,  42.,  14.,\n",
              "        26.,  52.,  24.,  21.,  28.,  23.,  38.,  25.,  50.,  22.,  29.,\n",
              "        27.,  30.,  33.,  73.,  40.,  31., 131.,  20.,  60.,  46.,  59.,\n",
              "        32., 106.,  39., 126., 122.,  36.,  35.,  93.,  48.,  53.,  41.,\n",
              "        67.,  37., 140.,  47.,  94.,  49., 123.,  44.,  61.,  57.,  78.,\n",
              "        64., 156.,  58.,  51.,  98., 114.,  80.,  92.,  43., 184., 125.,\n",
              "        55.,  54., 109.,  66.,  45.,  85.,  71.,  79.,  83.,  90., 104.,\n",
              "        62.,  68., 107., 155., 179.,  69., 135.,  74., 102., 176., 124.,\n",
              "       203.,  56.,  91.,  81., 105., 108.,  97.,  76., 159., 157.,  87.,\n",
              "        nan,  65., 145.,  75., 178.,  70.,  95., 187., 275.,  77., 161.,\n",
              "       440.,  96.,  84., 185., 163.,  88., 171., 133., 132., 290., 103.,\n",
              "        63., 166., 168., 286., 148., 144., 143., 970.,  86., 137., 169.,\n",
              "       127., 247., 254., 121.,  72., 101., 523., 117., 119., 256., 237.,\n",
              "       345., 158., 181., 146., 409., 190.,  99., 167., 377., 154., 100.,\n",
              "       264., 118., 267., 460., 589., 208., 151., 231., 696., 183., 172.,\n",
              "       134., 344., 418., 628., 358., 141., 188., 322.,  89., 111., 177.,\n",
              "       170.])"
            ]
          },
          "metadata": {
            "tags": []
          },
          "execution_count": 19
        }
      ]
    },
    {
      "cell_type": "code",
      "metadata": {
        "id": "R0dK2dVCNnPL"
      },
      "source": [
        "df['funny']=df['funny'].astype(int)"
      ],
      "execution_count": null,
      "outputs": []
    },
    {
      "cell_type": "code",
      "metadata": {
        "colab": {
          "base_uri": "https://localhost:8080/"
        },
        "id": "dhCwSm2pNnNy",
        "outputId": "5236a59f-5872-4068-dcef-e84d1b7455cd"
      },
      "source": [
        "df['funny'].dtype"
      ],
      "execution_count": null,
      "outputs": [
        {
          "output_type": "execute_result",
          "data": {
            "text/plain": [
              "dtype('int64')"
            ]
          },
          "metadata": {
            "tags": []
          },
          "execution_count": 21
        }
      ]
    },
    {
      "cell_type": "code",
      "metadata": {
        "colab": {
          "base_uri": "https://localhost:8080/",
          "height": 392
        },
        "id": "GLoRJiQOTDOJ",
        "outputId": "20300954-ab54-40bc-9e00-176b679d44e8"
      },
      "source": [
        "# Vemos la distribution de 'rating' \n",
        "x=df['stars'].value_counts()\n",
        "x=x.sort_index()\n",
        "\n",
        "plt.figure(figsize=(8,4))\n",
        "ax= sns.barplot(x.index, x.values, alpha=0.8)\n",
        "plt.title(\"Star Rating Distribution\")\n",
        "plt.xlabel('Star Ratings ', fontsize=12)\n",
        "\n",
        "rects = ax.patches\n",
        "labels = x.values\n",
        "for rect, label in zip(rects, labels):\n",
        "    height = rect.get_height()\n",
        "    ax.text(rect.get_x() + rect.get_width()/2, height + 5, label, ha='center', va='bottom')\n",
        "\n",
        "plt.show()"
      ],
      "execution_count": null,
      "outputs": [
        {
          "output_type": "stream",
          "text": [
            "/usr/local/lib/python3.6/dist-packages/seaborn/_decorators.py:43: FutureWarning:\n",
            "\n",
            "Pass the following variables as keyword args: x, y. From version 0.12, the only valid positional argument will be `data`, and passing other arguments without an explicit keyword will result in an error or misinterpretation.\n",
            "\n"
          ],
          "name": "stderr"
        },
        {
          "output_type": "display_data",
          "data": {
            "image/png": "[encoded data removed]",
            "text/plain": [
              "<Figure size 576x288 with 1 Axes>"
            ]
          },
          "metadata": {
            "tags": [],
            "needs_background": "light"
          }
        }
      ]
    },
    {
      "cell_type": "markdown",
      "metadata": {
        "id": "jA5bNmiEf7Hu"
      },
      "source": [
        "#### Tamaño del texto vs Stars"
      ]
    },
    {
      "cell_type": "code",
      "metadata": {
        "colab": {
          "base_uri": "https://localhost:8080/",
          "height": 279
        },
        "id": "aXrIjAhUNnEP",
        "outputId": "f341334f-3f6d-40e3-d753-03ab66abc466"
      },
      "source": [
        "df['length'] = df['text'].apply(len)\n",
        "df.head()"
      ],
      "execution_count": null,
      "outputs": [
        {
          "output_type": "execute_result",
          "data": {
            "text/html": [
              "<div>\n",
              "<style scoped>\n",
              "    .dataframe tbody tr th:only-of-type {\n",
              "        vertical-align: middle;\n",
              "    }\n",
              "\n",
              "    .dataframe tbody tr th {\n",
              "        vertical-align: top;\n",
              "    }\n",
              "\n",
              "    .dataframe thead th {\n",
              "        text-align: right;\n",
              "    }\n",
              "</style>\n",
              "<table border=\"1\" class=\"dataframe\">\n",
              "  <thead>\n",
              "    <tr style=\"text-align: right;\">\n",
              "      <th></th>\n",
              "      <th>business_id</th>\n",
              "      <th>cool</th>\n",
              "      <th>date</th>\n",
              "      <th>funny</th>\n",
              "      <th>review_id</th>\n",
              "      <th>stars</th>\n",
              "      <th>text</th>\n",
              "      <th>useful</th>\n",
              "      <th>user_id</th>\n",
              "      <th>length</th>\n",
              "    </tr>\n",
              "  </thead>\n",
              "  <tbody>\n",
              "    <tr>\n",
              "      <th>0</th>\n",
              "      <td>EhGPj8iJDIdaHnWg9d5BgA</td>\n",
              "      <td>0</td>\n",
              "      <td>2016-04-20 14:30:53</td>\n",
              "      <td>0</td>\n",
              "      <td>uJRdHLz4XNmDK5pOkWbZNA</td>\n",
              "      <td>5.0</td>\n",
              "      <td>Best Dim Sum in the city, their cart service i...</td>\n",
              "      <td>0.0</td>\n",
              "      <td>POETn3fQcZ8ngLAARCATSg</td>\n",
              "      <td>281</td>\n",
              "    </tr>\n",
              "    <tr>\n",
              "      <th>1</th>\n",
              "      <td>VPcFNI-6HICR5SJM--KjNA</td>\n",
              "      <td>5</td>\n",
              "      <td>2013-05-14 03:08:12</td>\n",
              "      <td>2</td>\n",
              "      <td>TlPh8jy8bt_TSGfjEw-pvA</td>\n",
              "      <td>5.0</td>\n",
              "      <td>How... HOW did I not head down here sooner? Fo...</td>\n",
              "      <td>7.0</td>\n",
              "      <td>oUK6Xs5dPPnP4whFeZExGg</td>\n",
              "      <td>1546</td>\n",
              "    </tr>\n",
              "    <tr>\n",
              "      <th>2</th>\n",
              "      <td>ugdUuApH3pYXggW5qpbALg</td>\n",
              "      <td>0</td>\n",
              "      <td>2016-08-26 16:51:37</td>\n",
              "      <td>0</td>\n",
              "      <td>GmoBAVE1pTo0kjmeKrXmLQ</td>\n",
              "      <td>4.0</td>\n",
              "      <td>Carnitas were wonderful. First time there and ...</td>\n",
              "      <td>0.0</td>\n",
              "      <td>SiaSUNlKQK7f57WBPmyyNw</td>\n",
              "      <td>206</td>\n",
              "    </tr>\n",
              "    <tr>\n",
              "      <th>3</th>\n",
              "      <td>3fCxmmg8nHGaE5upJWQUrw</td>\n",
              "      <td>0</td>\n",
              "      <td>2016-03-24 17:23:19</td>\n",
              "      <td>0</td>\n",
              "      <td>ZHuM9P81zfuNuFZ5ThXNRg</td>\n",
              "      <td>5.0</td>\n",
              "      <td>Great staff who are always willing to help. I ...</td>\n",
              "      <td>0.0</td>\n",
              "      <td>PsH5Qi8R69WAlhNv8mXWRA</td>\n",
              "      <td>275</td>\n",
              "    </tr>\n",
              "    <tr>\n",
              "      <th>4</th>\n",
              "      <td>LAqbIi2TDn8BDvPB0nLVhQ</td>\n",
              "      <td>1</td>\n",
              "      <td>2012-10-25 15:02:48</td>\n",
              "      <td>0</td>\n",
              "      <td>-2Ce00mfWYP20yt7k6kARg</td>\n",
              "      <td>3.0</td>\n",
              "      <td>This place is bigger, brighter, new so it's cl...</td>\n",
              "      <td>3.0</td>\n",
              "      <td>r-zUIQPaHzvIyL93wQaoiQ</td>\n",
              "      <td>289</td>\n",
              "    </tr>\n",
              "  </tbody>\n",
              "</table>\n",
              "</div>"
            ],
            "text/plain": [
              "              business_id  cool  ...                 user_id  length\n",
              "0  EhGPj8iJDIdaHnWg9d5BgA     0  ...  POETn3fQcZ8ngLAARCATSg     281\n",
              "1  VPcFNI-6HICR5SJM--KjNA     5  ...  oUK6Xs5dPPnP4whFeZExGg    1546\n",
              "2  ugdUuApH3pYXggW5qpbALg     0  ...  SiaSUNlKQK7f57WBPmyyNw     206\n",
              "3  3fCxmmg8nHGaE5upJWQUrw     0  ...  PsH5Qi8R69WAlhNv8mXWRA     275\n",
              "4  LAqbIi2TDn8BDvPB0nLVhQ     1  ...  r-zUIQPaHzvIyL93wQaoiQ     289\n",
              "\n",
              "[5 rows x 10 columns]"
            ]
          },
          "metadata": {
            "tags": []
          },
          "execution_count": 23
        }
      ]
    },
    {
      "cell_type": "code",
      "metadata": {
        "colab": {
          "base_uri": "https://localhost:8080/",
          "height": 243
        },
        "id": "5NUzKq1dNmiG",
        "outputId": "bf60b1fc-5aa0-4a1e-cab5-60ed5bab04b7"
      },
      "source": [
        "# Comparar tamaño del texto con las estrellas\n",
        "star_text = sns.FacetGrid(data=df,col='stars')\n",
        "star_text.map(plt.hist,'length',bins=50,color='blue')"
      ],
      "execution_count": null,
      "outputs": [
        {
          "output_type": "execute_result",
          "data": {
            "text/plain": [
              "<seaborn.axisgrid.FacetGrid at 0x7f44eb722c50>"
            ]
          },
          "metadata": {
            "tags": []
          },
          "execution_count": 24
        },
        {
          "output_type": "display_data",
          "data": {
            "image/png": "[encoded data removed]",
            "text/plain": [
              "<Figure size 1080x216 with 5 Axes>"
            ]
          },
          "metadata": {
            "tags": [],
            "needs_background": "light"
          }
        }
      ]
    },
    {
      "cell_type": "markdown",
      "metadata": {
        "id": "s4a7XpikrUKr"
      },
      "source": [
        "Los comentários con 5 estrellas son los que tienen mayor tamaño, seguidos de los comentários con 4 estrellas. Así, concluímos que las personas que dan los reviews considerados positivos escriben más en los comentários."
      ]
    },
    {
      "cell_type": "markdown",
      "metadata": {
        "id": "DaVQz9ZDgg6w"
      },
      "source": [
        "#### Correlación entre variables"
      ]
    },
    {
      "cell_type": "code",
      "metadata": {
        "colab": {
          "base_uri": "https://localhost:8080/",
          "height": 225
        },
        "id": "H0D8ccJ5iNLo",
        "outputId": "0998c45a-43ec-40f7-8ee6-58b3a667bab6"
      },
      "source": [
        "stars_val = df.groupby('stars').mean()\n",
        "stars_val"
      ],
      "execution_count": null,
      "outputs": [
        {
          "output_type": "execute_result",
          "data": {
            "text/html": [
              "<div>\n",
              "<style scoped>\n",
              "    .dataframe tbody tr th:only-of-type {\n",
              "        vertical-align: middle;\n",
              "    }\n",
              "\n",
              "    .dataframe tbody tr th {\n",
              "        vertical-align: top;\n",
              "    }\n",
              "\n",
              "    .dataframe thead th {\n",
              "        text-align: right;\n",
              "    }\n",
              "</style>\n",
              "<table border=\"1\" class=\"dataframe\">\n",
              "  <thead>\n",
              "    <tr style=\"text-align: right;\">\n",
              "      <th></th>\n",
              "      <th>cool</th>\n",
              "      <th>funny</th>\n",
              "      <th>useful</th>\n",
              "      <th>length</th>\n",
              "    </tr>\n",
              "    <tr>\n",
              "      <th>stars</th>\n",
              "      <th></th>\n",
              "      <th></th>\n",
              "      <th></th>\n",
              "      <th></th>\n",
              "    </tr>\n",
              "  </thead>\n",
              "  <tbody>\n",
              "    <tr>\n",
              "      <th>1.0</th>\n",
              "      <td>0.242548</td>\n",
              "      <td>0.613932</td>\n",
              "      <td>2.048470</td>\n",
              "      <td>759.886498</td>\n",
              "    </tr>\n",
              "    <tr>\n",
              "      <th>2.0</th>\n",
              "      <td>0.399131</td>\n",
              "      <td>0.622339</td>\n",
              "      <td>1.578410</td>\n",
              "      <td>763.426780</td>\n",
              "    </tr>\n",
              "    <tr>\n",
              "      <th>3.0</th>\n",
              "      <td>0.673438</td>\n",
              "      <td>0.610241</td>\n",
              "      <td>1.378180</td>\n",
              "      <td>710.374983</td>\n",
              "    </tr>\n",
              "    <tr>\n",
              "      <th>4.0</th>\n",
              "      <td>0.857391</td>\n",
              "      <td>0.568360</td>\n",
              "      <td>1.378671</td>\n",
              "      <td>623.374822</td>\n",
              "    </tr>\n",
              "    <tr>\n",
              "      <th>5.0</th>\n",
              "      <td>0.560054</td>\n",
              "      <td>0.334248</td>\n",
              "      <td>1.052409</td>\n",
              "      <td>481.391752</td>\n",
              "    </tr>\n",
              "  </tbody>\n",
              "</table>\n",
              "</div>"
            ],
            "text/plain": [
              "           cool     funny    useful      length\n",
              "stars                                          \n",
              "1.0    0.242548  0.613932  2.048470  759.886498\n",
              "2.0    0.399131  0.622339  1.578410  763.426780\n",
              "3.0    0.673438  0.610241  1.378180  710.374983\n",
              "4.0    0.857391  0.568360  1.378671  623.374822\n",
              "5.0    0.560054  0.334248  1.052409  481.391752"
            ]
          },
          "metadata": {
            "tags": []
          },
          "execution_count": 25
        }
      ]
    },
    {
      "cell_type": "code",
      "metadata": {
        "colab": {
          "base_uri": "https://localhost:8080/",
          "height": 166
        },
        "id": "EbLletgNif2m",
        "outputId": "3b8b7f5a-bcca-43a7-dbcc-cc9830d8566f"
      },
      "source": [
        "# Correlation between vars\n",
        "stars_val.corr()"
      ],
      "execution_count": null,
      "outputs": [
        {
          "output_type": "execute_result",
          "data": {
            "text/html": [
              "<div>\n",
              "<style scoped>\n",
              "    .dataframe tbody tr th:only-of-type {\n",
              "        vertical-align: middle;\n",
              "    }\n",
              "\n",
              "    .dataframe tbody tr th {\n",
              "        vertical-align: top;\n",
              "    }\n",
              "\n",
              "    .dataframe thead th {\n",
              "        text-align: right;\n",
              "    }\n",
              "</style>\n",
              "<table border=\"1\" class=\"dataframe\">\n",
              "  <thead>\n",
              "    <tr style=\"text-align: right;\">\n",
              "      <th></th>\n",
              "      <th>cool</th>\n",
              "      <th>funny</th>\n",
              "      <th>useful</th>\n",
              "      <th>length</th>\n",
              "    </tr>\n",
              "  </thead>\n",
              "  <tbody>\n",
              "    <tr>\n",
              "      <th>cool</th>\n",
              "      <td>1.000000</td>\n",
              "      <td>-0.168688</td>\n",
              "      <td>-0.680801</td>\n",
              "      <td>-0.469497</td>\n",
              "    </tr>\n",
              "    <tr>\n",
              "      <th>funny</th>\n",
              "      <td>-0.168688</td>\n",
              "      <td>1.000000</td>\n",
              "      <td>0.713190</td>\n",
              "      <td>0.944867</td>\n",
              "    </tr>\n",
              "    <tr>\n",
              "      <th>useful</th>\n",
              "      <td>-0.680801</td>\n",
              "      <td>0.713190</td>\n",
              "      <td>1.000000</td>\n",
              "      <td>0.816325</td>\n",
              "    </tr>\n",
              "    <tr>\n",
              "      <th>length</th>\n",
              "      <td>-0.469497</td>\n",
              "      <td>0.944867</td>\n",
              "      <td>0.816325</td>\n",
              "      <td>1.000000</td>\n",
              "    </tr>\n",
              "  </tbody>\n",
              "</table>\n",
              "</div>"
            ],
            "text/plain": [
              "            cool     funny    useful    length\n",
              "cool    1.000000 -0.168688 -0.680801 -0.469497\n",
              "funny  -0.168688  1.000000  0.713190  0.944867\n",
              "useful -0.680801  0.713190  1.000000  0.816325\n",
              "length -0.469497  0.944867  0.816325  1.000000"
            ]
          },
          "metadata": {
            "tags": []
          },
          "execution_count": 26
        }
      ]
    },
    {
      "cell_type": "code",
      "metadata": {
        "colab": {
          "base_uri": "https://localhost:8080/",
          "height": 287
        },
        "id": "YiFdHNSJiqOd",
        "outputId": "3c86195a-caad-4ae7-e3c2-4e2a95533f25"
      },
      "source": [
        "sns.heatmap(stars_val.corr())"
      ],
      "execution_count": null,
      "outputs": [
        {
          "output_type": "execute_result",
          "data": {
            "text/plain": [
              "<matplotlib.axes._subplots.AxesSubplot at 0x7f44e76f0a90>"
            ]
          },
          "metadata": {
            "tags": []
          },
          "execution_count": 27
        },
        {
          "output_type": "display_data",
          "data": {
            "image/png": "[encoded data removed]",
            "text/plain": [
              "<Figure size 432x288 with 2 Axes>"
            ]
          },
          "metadata": {
            "tags": [],
            "needs_background": "light"
          }
        }
      ]
    },
    {
      "cell_type": "markdown",
      "metadata": {
        "id": "v28F4J_0izOO"
      },
      "source": [
        "Identificamos que hay correlación negativa entre las variables:\n",
        "\n",
        "* Cool and Useful\n",
        "* Cool and Funny\n",
        "* Cool and Length  \n",
        "\n",
        "Hay correlación positiva entre las variables:\n",
        "\n",
        "* Funny and Useful    \n",
        "* Funny and Length\n",
        "* Useful and Length    \n"
      ]
    },
    {
      "cell_type": "code",
      "metadata": {
        "id": "-YaQV372j0Zm"
      },
      "source": [
        "#sns.pairplot(df, vars = [\"stars\", \"cool\", \"funny\", \"length\"], hue ='stars')"
      ],
      "execution_count": null,
      "outputs": []
    },
    {
      "cell_type": "markdown",
      "metadata": {
        "id": "LIK6XL8xOf-G"
      },
      "source": [
        "### Definicón del target"
      ]
    },
    {
      "cell_type": "markdown",
      "metadata": {
        "id": "1dViBD6JmhA5"
      },
      "source": [
        "Para definir el target asociaremos los reviews con 4 y 5 estrellas con un sentimiento positivo y los de 1 y 2 estrellas con un sentimiento negativo.\n",
        "\n",
        "Entendemos que las reviews de 3 estrellas serían neutrales. Es muy probable que contengan ambos sentimientos.\n",
        "\n",
        "Como nuestro objetivo es crear um modelo para reconocer el lenguaje positivo y negativo, decidimos no utilizar las calificaciones de 3 estrellas en este caso, porque probabelmente afectará la precisión de nuestro modelo."
      ]
    },
    {
      "cell_type": "code",
      "metadata": {
        "id": "bA-sL5GLpCfj"
      },
      "source": [
        "df = df.drop(df[df['stars']==3].index)"
      ],
      "execution_count": null,
      "outputs": []
    },
    {
      "cell_type": "code",
      "metadata": {
        "id": "uFNr0CIkoZc6"
      },
      "source": [
        "def get_target(star):\n",
        "  if star <=2:\n",
        "    return 'negative'\n",
        "  else:\n",
        "    return 'positive'"
      ],
      "execution_count": null,
      "outputs": []
    },
    {
      "cell_type": "code",
      "metadata": {
        "id": "sAezA4uEoZYj"
      },
      "source": [
        "df['target'] = df['stars'].apply( lambda x: get_target(x) )"
      ],
      "execution_count": null,
      "outputs": []
    },
    {
      "cell_type": "code",
      "metadata": {
        "colab": {
          "base_uri": "https://localhost:8080/",
          "height": 279
        },
        "id": "M2wEB4EeoZOZ",
        "outputId": "c797a603-4bb6-4654-cc90-65777a30da22"
      },
      "source": [
        "df.tail()"
      ],
      "execution_count": null,
      "outputs": [
        {
          "output_type": "execute_result",
          "data": {
            "text/html": [
              "<div>\n",
              "<style scoped>\n",
              "    .dataframe tbody tr th:only-of-type {\n",
              "        vertical-align: middle;\n",
              "    }\n",
              "\n",
              "    .dataframe tbody tr th {\n",
              "        vertical-align: top;\n",
              "    }\n",
              "\n",
              "    .dataframe thead th {\n",
              "        text-align: right;\n",
              "    }\n",
              "</style>\n",
              "<table border=\"1\" class=\"dataframe\">\n",
              "  <thead>\n",
              "    <tr style=\"text-align: right;\">\n",
              "      <th></th>\n",
              "      <th>business_id</th>\n",
              "      <th>cool</th>\n",
              "      <th>date</th>\n",
              "      <th>funny</th>\n",
              "      <th>review_id</th>\n",
              "      <th>stars</th>\n",
              "      <th>text</th>\n",
              "      <th>useful</th>\n",
              "      <th>user_id</th>\n",
              "      <th>length</th>\n",
              "      <th>target</th>\n",
              "    </tr>\n",
              "  </thead>\n",
              "  <tbody>\n",
              "    <tr>\n",
              "      <th>3342953</th>\n",
              "      <td>oryS4vX0xkKC4tOekgowDQ</td>\n",
              "      <td>0</td>\n",
              "      <td>2016-07-17 21:32:48</td>\n",
              "      <td>0</td>\n",
              "      <td>pBNcMg-KVzZG-xDu9cgLww</td>\n",
              "      <td>2.0</td>\n",
              "      <td>Slow service to seat and then to serve. Left w...</td>\n",
              "      <td>0.0</td>\n",
              "      <td>srjcYNoIOXJ57VP8z7gwmQ</td>\n",
              "      <td>124</td>\n",
              "      <td>negative</td>\n",
              "    </tr>\n",
              "    <tr>\n",
              "      <th>3342954</th>\n",
              "      <td>na4Th5DrNauOv-c43QQFvA</td>\n",
              "      <td>4</td>\n",
              "      <td>2017-11-28 22:43:05</td>\n",
              "      <td>2</td>\n",
              "      <td>xNG2SzEHJi7w7LbJDF7Oog</td>\n",
              "      <td>4.0</td>\n",
              "      <td>I stayed at the Bellagio for 3 nights this mon...</td>\n",
              "      <td>12.0</td>\n",
              "      <td>uCNgCZCuo07ew0sWPB1z7g</td>\n",
              "      <td>2121</td>\n",
              "      <td>positive</td>\n",
              "    </tr>\n",
              "    <tr>\n",
              "      <th>3342955</th>\n",
              "      <td>Lg238Ittk3KO3lqHyBAcYA</td>\n",
              "      <td>1</td>\n",
              "      <td>2016-10-07 06:05:29</td>\n",
              "      <td>1</td>\n",
              "      <td>RCNXjfRdRZ2exHihiy-oqw</td>\n",
              "      <td>5.0</td>\n",
              "      <td>1: book an appointment!  You get to walk past ...</td>\n",
              "      <td>1.0</td>\n",
              "      <td>v1w2A6kHRiI1OD4DyXOiDQ</td>\n",
              "      <td>292</td>\n",
              "      <td>positive</td>\n",
              "    </tr>\n",
              "    <tr>\n",
              "      <th>3342956</th>\n",
              "      <td>NxeEdKkvbZmuuBar_1NFrg</td>\n",
              "      <td>1</td>\n",
              "      <td>2014-10-19 18:02:56</td>\n",
              "      <td>2</td>\n",
              "      <td>g0mcjOV3o3-dPzpKiRecDg</td>\n",
              "      <td>1.0</td>\n",
              "      <td>This review is based on quality of pricing, no...</td>\n",
              "      <td>13.0</td>\n",
              "      <td>j-i6_zboeko9mkR9UIFKMw</td>\n",
              "      <td>1775</td>\n",
              "      <td>negative</td>\n",
              "    </tr>\n",
              "    <tr>\n",
              "      <th>3342957</th>\n",
              "      <td>yvtxKjAySVvpPKt0VLWscQ</td>\n",
              "      <td>0</td>\n",
              "      <td>2018-07-02 20:38:51</td>\n",
              "      <td>0</td>\n",
              "      <td>rH76Hu3UG1HcfeDS3zJS-A</td>\n",
              "      <td>2.0</td>\n",
              "      <td>I posted and review earlier that was removed. ...</td>\n",
              "      <td>0.0</td>\n",
              "      <td>yWFFDVEoY_g3aCtMWf7odQ</td>\n",
              "      <td>1029</td>\n",
              "      <td>negative</td>\n",
              "    </tr>\n",
              "  </tbody>\n",
              "</table>\n",
              "</div>"
            ],
            "text/plain": [
              "                    business_id  cool  ... length    target\n",
              "3342953  oryS4vX0xkKC4tOekgowDQ     0  ...    124  negative\n",
              "3342954  na4Th5DrNauOv-c43QQFvA     4  ...   2121  positive\n",
              "3342955  Lg238Ittk3KO3lqHyBAcYA     1  ...    292  positive\n",
              "3342956  NxeEdKkvbZmuuBar_1NFrg     1  ...   1775  negative\n",
              "3342957  yvtxKjAySVvpPKt0VLWscQ     0  ...   1029  negative\n",
              "\n",
              "[5 rows x 11 columns]"
            ]
          },
          "metadata": {
            "tags": []
          },
          "execution_count": 32
        }
      ]
    },
    {
      "cell_type": "code",
      "metadata": {
        "colab": {
          "base_uri": "https://localhost:8080/",
          "height": 282
        },
        "id": "63mfaD_jwoqk",
        "outputId": "4418c540-cce9-4694-92db-8fceed9bfeed"
      },
      "source": [
        "colors=['darkslateblue', 'crimson']\n",
        "df['target'].value_counts().plot.pie(autopct='%1.2f%%',pctdistance=1.3, colors=colors)\n",
        "plt.title('Sentiment review')\n"
      ],
      "execution_count": null,
      "outputs": [
        {
          "output_type": "execute_result",
          "data": {
            "text/plain": [
              "Text(0.5, 1.0, 'Sentiment review')"
            ]
          },
          "metadata": {
            "tags": []
          },
          "execution_count": 33
        },
        {
          "output_type": "display_data",
          "data": {
            "image/png": "[encoded data removed]",
            "text/plain": [
              "<Figure size 432x288 with 1 Axes>"
            ]
          },
          "metadata": {
            "tags": []
          }
        }
      ]
    },
    {
      "cell_type": "code",
      "metadata": {
        "colab": {
          "base_uri": "https://localhost:8080/"
        },
        "id": "M5dyGpIAsQiN",
        "outputId": "a724400b-f3e8-4030-a860-4869e5592023"
      },
      "source": [
        "print('Proporcion por cada cada tipo de estrella:')\n",
        "df.groupby(['stars'])['stars'].count()/df['stars'].count().sum()"
      ],
      "execution_count": null,
      "outputs": [
        {
          "output_type": "stream",
          "text": [
            "Proporcion por cada cada tipo de estrella:\n"
          ],
          "name": "stdout"
        },
        {
          "output_type": "execute_result",
          "data": {
            "text/plain": [
              "stars\n",
              "1.0    0.168538\n",
              "2.0    0.091224\n",
              "4.0    0.246814\n",
              "5.0    0.493424\n",
              "Name: stars, dtype: float64"
            ]
          },
          "metadata": {
            "tags": []
          },
          "execution_count": 34
        }
      ]
    },
    {
      "cell_type": "code",
      "metadata": {
        "id": "2Qo3IfRKsQZy"
      },
      "source": [
        "weights = [\n",
        "    {'id':1, 'weight': 0.168538},\n",
        "    {'id':2, 'weight': 0.091224},\n",
        "    {'id':4, 'weight': 0.246814},\n",
        "    {'id':5, 'weight': 0.493424}\n",
        "]\n",
        "\n",
        "def getWeight(rate):\n",
        "    for x in weights:\n",
        "        if rate == x['id']:\n",
        "            return x['weight']\n",
        "        \n",
        "\n",
        "df['weights'] = df['stars'].apply( lambda x: getWeight(x) )"
      ],
      "execution_count": null,
      "outputs": []
    },
    {
      "cell_type": "code",
      "metadata": {
        "colab": {
          "base_uri": "https://localhost:8080/",
          "height": 279
        },
        "id": "Hh2d-oqwsQWs",
        "outputId": "66e30eba-030a-4ec2-da8b-7bb1dc901f04"
      },
      "source": [
        "df.head()"
      ],
      "execution_count": null,
      "outputs": [
        {
          "output_type": "execute_result",
          "data": {
            "text/html": [
              "<div>\n",
              "<style scoped>\n",
              "    .dataframe tbody tr th:only-of-type {\n",
              "        vertical-align: middle;\n",
              "    }\n",
              "\n",
              "    .dataframe tbody tr th {\n",
              "        vertical-align: top;\n",
              "    }\n",
              "\n",
              "    .dataframe thead th {\n",
              "        text-align: right;\n",
              "    }\n",
              "</style>\n",
              "<table border=\"1\" class=\"dataframe\">\n",
              "  <thead>\n",
              "    <tr style=\"text-align: right;\">\n",
              "      <th></th>\n",
              "      <th>business_id</th>\n",
              "      <th>cool</th>\n",
              "      <th>date</th>\n",
              "      <th>funny</th>\n",
              "      <th>review_id</th>\n",
              "      <th>stars</th>\n",
              "      <th>text</th>\n",
              "      <th>useful</th>\n",
              "      <th>user_id</th>\n",
              "      <th>length</th>\n",
              "      <th>target</th>\n",
              "      <th>weights</th>\n",
              "    </tr>\n",
              "  </thead>\n",
              "  <tbody>\n",
              "    <tr>\n",
              "      <th>0</th>\n",
              "      <td>EhGPj8iJDIdaHnWg9d5BgA</td>\n",
              "      <td>0</td>\n",
              "      <td>2016-04-20 14:30:53</td>\n",
              "      <td>0</td>\n",
              "      <td>uJRdHLz4XNmDK5pOkWbZNA</td>\n",
              "      <td>5.0</td>\n",
              "      <td>Best Dim Sum in the city, their cart service i...</td>\n",
              "      <td>0.0</td>\n",
              "      <td>POETn3fQcZ8ngLAARCATSg</td>\n",
              "      <td>281</td>\n",
              "      <td>positive</td>\n",
              "      <td>0.493424</td>\n",
              "    </tr>\n",
              "    <tr>\n",
              "      <th>1</th>\n",
              "      <td>VPcFNI-6HICR5SJM--KjNA</td>\n",
              "      <td>5</td>\n",
              "      <td>2013-05-14 03:08:12</td>\n",
              "      <td>2</td>\n",
              "      <td>TlPh8jy8bt_TSGfjEw-pvA</td>\n",
              "      <td>5.0</td>\n",
              "      <td>How... HOW did I not head down here sooner? Fo...</td>\n",
              "      <td>7.0</td>\n",
              "      <td>oUK6Xs5dPPnP4whFeZExGg</td>\n",
              "      <td>1546</td>\n",
              "      <td>positive</td>\n",
              "      <td>0.493424</td>\n",
              "    </tr>\n",
              "    <tr>\n",
              "      <th>2</th>\n",
              "      <td>ugdUuApH3pYXggW5qpbALg</td>\n",
              "      <td>0</td>\n",
              "      <td>2016-08-26 16:51:37</td>\n",
              "      <td>0</td>\n",
              "      <td>GmoBAVE1pTo0kjmeKrXmLQ</td>\n",
              "      <td>4.0</td>\n",
              "      <td>Carnitas were wonderful. First time there and ...</td>\n",
              "      <td>0.0</td>\n",
              "      <td>SiaSUNlKQK7f57WBPmyyNw</td>\n",
              "      <td>206</td>\n",
              "      <td>positive</td>\n",
              "      <td>0.246814</td>\n",
              "    </tr>\n",
              "    <tr>\n",
              "      <th>3</th>\n",
              "      <td>3fCxmmg8nHGaE5upJWQUrw</td>\n",
              "      <td>0</td>\n",
              "      <td>2016-03-24 17:23:19</td>\n",
              "      <td>0</td>\n",
              "      <td>ZHuM9P81zfuNuFZ5ThXNRg</td>\n",
              "      <td>5.0</td>\n",
              "      <td>Great staff who are always willing to help. I ...</td>\n",
              "      <td>0.0</td>\n",
              "      <td>PsH5Qi8R69WAlhNv8mXWRA</td>\n",
              "      <td>275</td>\n",
              "      <td>positive</td>\n",
              "      <td>0.493424</td>\n",
              "    </tr>\n",
              "    <tr>\n",
              "      <th>5</th>\n",
              "      <td>wu5nk3pY1e_ou_Le_U52Sw</td>\n",
              "      <td>0</td>\n",
              "      <td>2010-04-20 20:43:49</td>\n",
              "      <td>2</td>\n",
              "      <td>43ps1xif7NwDLEyEsc5LSw</td>\n",
              "      <td>4.0</td>\n",
              "      <td>Sheer coincidence that I'm writing a review fo...</td>\n",
              "      <td>0.0</td>\n",
              "      <td>MAxVtL7aoYbbQav4c3jnlw</td>\n",
              "      <td>184</td>\n",
              "      <td>positive</td>\n",
              "      <td>0.246814</td>\n",
              "    </tr>\n",
              "  </tbody>\n",
              "</table>\n",
              "</div>"
            ],
            "text/plain": [
              "              business_id  cool                date  ...  length    target   weights\n",
              "0  EhGPj8iJDIdaHnWg9d5BgA     0 2016-04-20 14:30:53  ...     281  positive  0.493424\n",
              "1  VPcFNI-6HICR5SJM--KjNA     5 2013-05-14 03:08:12  ...    1546  positive  0.493424\n",
              "2  ugdUuApH3pYXggW5qpbALg     0 2016-08-26 16:51:37  ...     206  positive  0.246814\n",
              "3  3fCxmmg8nHGaE5upJWQUrw     0 2016-03-24 17:23:19  ...     275  positive  0.493424\n",
              "5  wu5nk3pY1e_ou_Le_U52Sw     0 2010-04-20 20:43:49  ...     184  positive  0.246814\n",
              "\n",
              "[5 rows x 12 columns]"
            ]
          },
          "metadata": {
            "tags": []
          },
          "execution_count": 36
        }
      ]
    },
    {
      "cell_type": "markdown",
      "metadata": {
        "id": "15pWmgxzShlu"
      },
      "source": [
        "# 4 - Natural Language Processing"
      ]
    },
    {
      "cell_type": "markdown",
      "metadata": {
        "id": "0lIVJjIFt3E_"
      },
      "source": [
        "Con base en los pesos definiremos un sample.\n",
        "\n",
        "> Bloque con sangría\n",
        "\n"
      ]
    },
    {
      "cell_type": "code",
      "metadata": {
        "id": "ciWVjbymLdy3"
      },
      "source": [
        "cantidad_muestras = 5000"
      ],
      "execution_count": null,
      "outputs": []
    },
    {
      "cell_type": "code",
      "metadata": {
        "colab": {
          "base_uri": "https://localhost:8080/",
          "height": 296
        },
        "id": "_3wosGX3t9ny",
        "outputId": "f4354306-e293-47df-c101-f4154ddf0472"
      },
      "source": [
        "sample = df.sample(n=cantidad_muestras, weights='weights', random_state=1)\n",
        "sample.head()"
      ],
      "execution_count": null,
      "outputs": [
        {
          "output_type": "execute_result",
          "data": {
            "text/html": [
              "<div>\n",
              "<style scoped>\n",
              "    .dataframe tbody tr th:only-of-type {\n",
              "        vertical-align: middle;\n",
              "    }\n",
              "\n",
              "    .dataframe tbody tr th {\n",
              "        vertical-align: top;\n",
              "    }\n",
              "\n",
              "    .dataframe thead th {\n",
              "        text-align: right;\n",
              "    }\n",
              "</style>\n",
              "<table border=\"1\" class=\"dataframe\">\n",
              "  <thead>\n",
              "    <tr style=\"text-align: right;\">\n",
              "      <th></th>\n",
              "      <th>business_id</th>\n",
              "      <th>cool</th>\n",
              "      <th>date</th>\n",
              "      <th>funny</th>\n",
              "      <th>review_id</th>\n",
              "      <th>stars</th>\n",
              "      <th>text</th>\n",
              "      <th>useful</th>\n",
              "      <th>user_id</th>\n",
              "      <th>length</th>\n",
              "      <th>target</th>\n",
              "      <th>weights</th>\n",
              "    </tr>\n",
              "  </thead>\n",
              "  <tbody>\n",
              "    <tr>\n",
              "      <th>1393688</th>\n",
              "      <td>J4CATH00YZrq8Bne2S4_cw</td>\n",
              "      <td>1</td>\n",
              "      <td>2013-01-08 00:41:03</td>\n",
              "      <td>0</td>\n",
              "      <td>mWwpfwSj-Usy0UC3IEiRIw</td>\n",
              "      <td>4.0</td>\n",
              "      <td>bread and the cheese puffs at the beginning we...</td>\n",
              "      <td>0.0</td>\n",
              "      <td>-PXrxfoajGpAOcQsQE6FOw</td>\n",
              "      <td>268</td>\n",
              "      <td>positive</td>\n",
              "      <td>0.246814</td>\n",
              "    </tr>\n",
              "    <tr>\n",
              "      <th>2407183</th>\n",
              "      <td>Qbwb8UEm5th5jAO-xIezMw</td>\n",
              "      <td>1</td>\n",
              "      <td>2016-01-21 21:14:53</td>\n",
              "      <td>0</td>\n",
              "      <td>tTgrcMi2vW3JI62KAIBfNg</td>\n",
              "      <td>5.0</td>\n",
              "      <td>Shad come out and did a great job,very profess...</td>\n",
              "      <td>4.0</td>\n",
              "      <td>3ypqG3bh_KC48kg53pBT-w</td>\n",
              "      <td>142</td>\n",
              "      <td>positive</td>\n",
              "      <td>0.493424</td>\n",
              "    </tr>\n",
              "    <tr>\n",
              "      <th>395</th>\n",
              "      <td>5EnHfzuyBf03UhJH4E4mAA</td>\n",
              "      <td>0</td>\n",
              "      <td>2015-08-31 15:57:10</td>\n",
              "      <td>0</td>\n",
              "      <td>ryWnE3koc9D5z2HBUPjq1Q</td>\n",
              "      <td>4.0</td>\n",
              "      <td>We were a group of 8 at Mr. Flamingo last Satu...</td>\n",
              "      <td>1.0</td>\n",
              "      <td>JJYoSUE7xrr5DN5lLWZw7Q</td>\n",
              "      <td>1376</td>\n",
              "      <td>positive</td>\n",
              "      <td>0.246814</td>\n",
              "    </tr>\n",
              "    <tr>\n",
              "      <th>1010964</th>\n",
              "      <td>ij_czg0xkJR6xvnQdgnMDA</td>\n",
              "      <td>1</td>\n",
              "      <td>2015-01-20 02:35:50</td>\n",
              "      <td>1</td>\n",
              "      <td>05Hydv6oTJBooZosbw0E0A</td>\n",
              "      <td>4.0</td>\n",
              "      <td>As the Harris Teeter closest to my house, it h...</td>\n",
              "      <td>3.0</td>\n",
              "      <td>H7JLpACO44A3xVXnOt1Z_A</td>\n",
              "      <td>656</td>\n",
              "      <td>positive</td>\n",
              "      <td>0.246814</td>\n",
              "    </tr>\n",
              "    <tr>\n",
              "      <th>490460</th>\n",
              "      <td>plHKBwA18aWeP-TG8DC96Q</td>\n",
              "      <td>0</td>\n",
              "      <td>2018-06-27 20:54:02</td>\n",
              "      <td>0</td>\n",
              "      <td>VfputfsSzZwYSPQ4yfNjgg</td>\n",
              "      <td>5.0</td>\n",
              "      <td>Smoke taqueria is incredible. Their chicken ap...</td>\n",
              "      <td>0.0</td>\n",
              "      <td>VoXnKpUYYpzXLoU74GGhQA</td>\n",
              "      <td>426</td>\n",
              "      <td>positive</td>\n",
              "      <td>0.493424</td>\n",
              "    </tr>\n",
              "  </tbody>\n",
              "</table>\n",
              "</div>"
            ],
            "text/plain": [
              "                    business_id  cool  ...    target   weights\n",
              "1393688  J4CATH00YZrq8Bne2S4_cw     1  ...  positive  0.246814\n",
              "2407183  Qbwb8UEm5th5jAO-xIezMw     1  ...  positive  0.493424\n",
              "395      5EnHfzuyBf03UhJH4E4mAA     0  ...  positive  0.246814\n",
              "1010964  ij_czg0xkJR6xvnQdgnMDA     1  ...  positive  0.246814\n",
              "490460   plHKBwA18aWeP-TG8DC96Q     0  ...  positive  0.493424\n",
              "\n",
              "[5 rows x 12 columns]"
            ]
          },
          "metadata": {
            "tags": []
          },
          "execution_count": 38
        }
      ]
    },
    {
      "cell_type": "code",
      "metadata": {
        "colab": {
          "base_uri": "https://localhost:8080/",
          "height": 214
        },
        "id": "DoTS4DF_wL9s",
        "outputId": "9d7690c8-a47f-42b4-d43e-91ef1c818727"
      },
      "source": [
        "df_comments = sample[['stars', 'text', 'target']]\n",
        "df_comments = df_comments.dropna(subset=['text'])\n",
        "df_comments = df_comments.reset_index(drop=True)\n",
        "print(f'Dataset shape: {df_comments.shape}')\n",
        "df_comments.columns = ['score', 'comment', 'target']\n",
        "df_comments.head()"
      ],
      "execution_count": null,
      "outputs": [
        {
          "output_type": "stream",
          "text": [
            "Dataset shape: (5000, 3)\n"
          ],
          "name": "stdout"
        },
        {
          "output_type": "execute_result",
          "data": {
            "text/html": [
              "<div>\n",
              "<style scoped>\n",
              "    .dataframe tbody tr th:only-of-type {\n",
              "        vertical-align: middle;\n",
              "    }\n",
              "\n",
              "    .dataframe tbody tr th {\n",
              "        vertical-align: top;\n",
              "    }\n",
              "\n",
              "    .dataframe thead th {\n",
              "        text-align: right;\n",
              "    }\n",
              "</style>\n",
              "<table border=\"1\" class=\"dataframe\">\n",
              "  <thead>\n",
              "    <tr style=\"text-align: right;\">\n",
              "      <th></th>\n",
              "      <th>score</th>\n",
              "      <th>comment</th>\n",
              "      <th>target</th>\n",
              "    </tr>\n",
              "  </thead>\n",
              "  <tbody>\n",
              "    <tr>\n",
              "      <th>0</th>\n",
              "      <td>4.0</td>\n",
              "      <td>bread and the cheese puffs at the beginning we...</td>\n",
              "      <td>positive</td>\n",
              "    </tr>\n",
              "    <tr>\n",
              "      <th>1</th>\n",
              "      <td>5.0</td>\n",
              "      <td>Shad come out and did a great job,very profess...</td>\n",
              "      <td>positive</td>\n",
              "    </tr>\n",
              "    <tr>\n",
              "      <th>2</th>\n",
              "      <td>4.0</td>\n",
              "      <td>We were a group of 8 at Mr. Flamingo last Satu...</td>\n",
              "      <td>positive</td>\n",
              "    </tr>\n",
              "    <tr>\n",
              "      <th>3</th>\n",
              "      <td>4.0</td>\n",
              "      <td>As the Harris Teeter closest to my house, it h...</td>\n",
              "      <td>positive</td>\n",
              "    </tr>\n",
              "    <tr>\n",
              "      <th>4</th>\n",
              "      <td>5.0</td>\n",
              "      <td>Smoke taqueria is incredible. Their chicken ap...</td>\n",
              "      <td>positive</td>\n",
              "    </tr>\n",
              "  </tbody>\n",
              "</table>\n",
              "</div>"
            ],
            "text/plain": [
              "   score                                            comment    target\n",
              "0    4.0  bread and the cheese puffs at the beginning we...  positive\n",
              "1    5.0  Shad come out and did a great job,very profess...  positive\n",
              "2    4.0  We were a group of 8 at Mr. Flamingo last Satu...  positive\n",
              "3    4.0  As the Harris Teeter closest to my house, it h...  positive\n",
              "4    5.0  Smoke taqueria is incredible. Their chicken ap...  positive"
            ]
          },
          "metadata": {
            "tags": []
          },
          "execution_count": 39
        }
      ]
    },
    {
      "cell_type": "markdown",
      "metadata": {
        "id": "6OJK18nYupWn"
      },
      "source": [
        "# Text Pre-processing"
      ]
    },
    {
      "cell_type": "markdown",
      "metadata": {
        "id": "xVohpAq1SpOH"
      },
      "source": [
        "### Removing non english reviews"
      ]
    },
    {
      "cell_type": "markdown",
      "metadata": {
        "id": "f0RopvID8G5c"
      },
      "source": [
        "Es muy probable que entre los reviews hayan comentários en idiomas diferentes del inglés. Para entrenar nuestro modelo, iremos considerar solo los comentários en inglés, para no prejudicar el redimiento del modelo."
      ]
    },
    {
      "cell_type": "code",
      "metadata": {
        "id": "VqE-XloStT29"
      },
      "source": [
        "df_comments['language'] = df_comments['comment'].apply(detect)"
      ],
      "execution_count": null,
      "outputs": []
    },
    {
      "cell_type": "code",
      "metadata": {
        "colab": {
          "base_uri": "https://localhost:8080/",
          "height": 195
        },
        "id": "vsOZfSVuuixs",
        "outputId": "e9385641-db03-4505-bc5a-d686e5457ef0"
      },
      "source": [
        "df_comments.head()"
      ],
      "execution_count": null,
      "outputs": [
        {
          "output_type": "execute_result",
          "data": {
            "text/html": [
              "<div>\n",
              "<style scoped>\n",
              "    .dataframe tbody tr th:only-of-type {\n",
              "        vertical-align: middle;\n",
              "    }\n",
              "\n",
              "    .dataframe tbody tr th {\n",
              "        vertical-align: top;\n",
              "    }\n",
              "\n",
              "    .dataframe thead th {\n",
              "        text-align: right;\n",
              "    }\n",
              "</style>\n",
              "<table border=\"1\" class=\"dataframe\">\n",
              "  <thead>\n",
              "    <tr style=\"text-align: right;\">\n",
              "      <th></th>\n",
              "      <th>score</th>\n",
              "      <th>comment</th>\n",
              "      <th>target</th>\n",
              "      <th>language</th>\n",
              "    </tr>\n",
              "  </thead>\n",
              "  <tbody>\n",
              "    <tr>\n",
              "      <th>0</th>\n",
              "      <td>4.0</td>\n",
              "      <td>bread and the cheese puffs at the beginning we...</td>\n",
              "      <td>positive</td>\n",
              "      <td>en</td>\n",
              "    </tr>\n",
              "    <tr>\n",
              "      <th>1</th>\n",
              "      <td>5.0</td>\n",
              "      <td>Shad come out and did a great job,very profess...</td>\n",
              "      <td>positive</td>\n",
              "      <td>en</td>\n",
              "    </tr>\n",
              "    <tr>\n",
              "      <th>2</th>\n",
              "      <td>4.0</td>\n",
              "      <td>We were a group of 8 at Mr. Flamingo last Satu...</td>\n",
              "      <td>positive</td>\n",
              "      <td>en</td>\n",
              "    </tr>\n",
              "    <tr>\n",
              "      <th>3</th>\n",
              "      <td>4.0</td>\n",
              "      <td>As the Harris Teeter closest to my house, it h...</td>\n",
              "      <td>positive</td>\n",
              "      <td>en</td>\n",
              "    </tr>\n",
              "    <tr>\n",
              "      <th>4</th>\n",
              "      <td>5.0</td>\n",
              "      <td>Smoke taqueria is incredible. Their chicken ap...</td>\n",
              "      <td>positive</td>\n",
              "      <td>en</td>\n",
              "    </tr>\n",
              "  </tbody>\n",
              "</table>\n",
              "</div>"
            ],
            "text/plain": [
              "   score                                            comment    target language\n",
              "0    4.0  bread and the cheese puffs at the beginning we...  positive       en\n",
              "1    5.0  Shad come out and did a great job,very profess...  positive       en\n",
              "2    4.0  We were a group of 8 at Mr. Flamingo last Satu...  positive       en\n",
              "3    4.0  As the Harris Teeter closest to my house, it h...  positive       en\n",
              "4    5.0  Smoke taqueria is incredible. Their chicken ap...  positive       en"
            ]
          },
          "metadata": {
            "tags": []
          },
          "execution_count": 41
        }
      ]
    },
    {
      "cell_type": "code",
      "metadata": {
        "colab": {
          "base_uri": "https://localhost:8080/"
        },
        "id": "qUylpQKswW9V",
        "outputId": "510cf792-9cc4-45b3-a26b-9be7d16618de"
      },
      "source": [
        "df_comments['language'].value_counts()"
      ],
      "execution_count": null,
      "outputs": [
        {
          "output_type": "execute_result",
          "data": {
            "text/plain": [
              "en    4983\n",
              "fr      16\n",
              "de       1\n",
              "Name: language, dtype: int64"
            ]
          },
          "metadata": {
            "tags": []
          },
          "execution_count": 42
        }
      ]
    },
    {
      "cell_type": "code",
      "metadata": {
        "colab": {
          "base_uri": "https://localhost:8080/",
          "height": 657
        },
        "id": "KW6h3mfS0ixN",
        "outputId": "95ea0ddf-e325-489a-d35c-f663392ce21b"
      },
      "source": [
        "x=df_comments['language'].value_counts()\n",
        "x=x.sort_index()\n",
        "#plot\n",
        "plt.figure(figsize=(15,9))\n",
        "ax= sns.barplot(x.index, x.values, alpha=0.8)\n",
        "plt.title(\"Language Count\", fontsize = 22)\n",
        "plt.xlabel('', fontsize=16)\n",
        "plt.tick_params(axis='x', which='major', labelsize=14)\n",
        "\n",
        "#adding the text labels\n",
        "rects = ax.patches\n",
        "labels = x.values\n",
        "for rect, label in zip(rects, labels):\n",
        "    height = rect.get_height()\n",
        "    ax.text(rect.get_x() + rect.get_width()/2, height + 5, label, ha='center', va='bottom')\n",
        "\n",
        "plt.grid(axis='y')\n",
        "plt.show()"
      ],
      "execution_count": null,
      "outputs": [
        {
          "output_type": "stream",
          "text": [
            "/usr/local/lib/python3.6/dist-packages/seaborn/_decorators.py:43: FutureWarning:\n",
            "\n",
            "Pass the following variables as keyword args: x, y. From version 0.12, the only valid positional argument will be `data`, and passing other arguments without an explicit keyword will result in an error or misinterpretation.\n",
            "\n"
          ],
          "name": "stderr"
        },
        {
          "output_type": "display_data",
          "data": {
            "image/png": "[encoded data removed]",
            "text/plain": [
              "<Figure size 1080x648 with 1 Axes>"
            ]
          },
          "metadata": {
            "tags": [],
            "needs_background": "light"
          }
        }
      ]
    },
    {
      "cell_type": "code",
      "metadata": {
        "id": "Osdw8mZFwgiW"
      },
      "source": [
        "df_comments = df_comments.drop(df_comments[df_comments['language'] != 'en'].index)"
      ],
      "execution_count": null,
      "outputs": []
    },
    {
      "cell_type": "code",
      "metadata": {
        "colab": {
          "base_uri": "https://localhost:8080/"
        },
        "id": "e86TjlFhxPfy",
        "outputId": "e9616e50-9316-48b3-e8da-b3138b7a2b67"
      },
      "source": [
        "df_comments.reset_index(drop=True, inplace=True)\n",
        "df_comments['language'].value_counts()\n"
      ],
      "execution_count": null,
      "outputs": [
        {
          "output_type": "execute_result",
          "data": {
            "text/plain": [
              "en    4983\n",
              "Name: language, dtype: int64"
            ]
          },
          "metadata": {
            "tags": []
          },
          "execution_count": 45
        }
      ]
    },
    {
      "cell_type": "code",
      "metadata": {
        "id": "yTSH9V5NaeRL"
      },
      "source": [
        "df_nube = df_comments.copy(deep=True)"
      ],
      "execution_count": null,
      "outputs": []
    },
    {
      "cell_type": "markdown",
      "metadata": {
        "id": "4yrBMrv4ugK2"
      },
      "source": [
        "### Regular Expressions"
      ]
    },
    {
      "cell_type": "markdown",
      "metadata": {
        "id": "UJcQEM1au3fs"
      },
      "source": [
        "En esa sección realizamos el processamiento de la columna \"comment\", donde están los comentários de los clientes para \"limpiar\" los comentários de links, caracteres especiales, etc. Utilizamos las Regular Expressions para buscar patrones en el texto de los comentários."
      ]
    },
    {
      "cell_type": "code",
      "metadata": {
        "id": "gGcdy1R9tZz1"
      },
      "source": [
        "# Función imprimir resultados\n",
        "def print_results(text_before, text_after, idx_list):\n",
        "  i = 1\n",
        "  for idx in idx_list:\n",
        "    print(f'--- Text {i} ---\\n')\n",
        "    print(f'Before: \\n{text_before[idx]}\\n')\n",
        "    print(f'After: \\n{text_after[idx]}\\n')\n",
        "    i += 1\n",
        "\n",
        "# RegEx Quiebra de Línea\n",
        "def clear_breakline(text_list):\n",
        "    return [re.sub('[\\n\\r]', ' ', r) for r in text_list]\n",
        "\n",
        "# RegEx Links\n",
        "def clear_hiperlinks(text_list):\n",
        "    pattern = 'http[s]?://(?:[a-zA-Z]|[0-9]|[$-_@.&+]|[!*\\(\\),]|(?:%[0-9a-fA-F][0-9a-fA-F]))+'\n",
        "    return [re.sub(pattern, ' link ', r) for r in text_list]\n",
        "\n",
        "# RegEx Números\n",
        "def clear_numbers(text_list):\n",
        "    return [re.sub('[0-9]+', ' number ', r) for r in text_list]\n",
        "\n",
        "# RegEx Dinero\n",
        "def clear_money(text_list):\n",
        "    pattern = '[$]'\n",
        "    return [re.sub(pattern, ' money ', r) for r in text_list]\n",
        "\n",
        "# RegEx Negacion\n",
        "def clear_negation(text_list):\n",
        "    return [re.sub(\"([nN][oO][tT]|[nN][oO]|[dD][oO][nN][tT]|[dD][oO][nN]['][tT]|[dD][oO][eE][sS][ ][nN][oO][tT]|[dD][oO][eE][sS]['][nN][tT])\", ' negation ', r) for r in text_list]\n",
        "\n",
        "# RegEx Caracteres Especiales\n",
        "def clear_special_chars(text_list):\n",
        "    return [re.sub(\"(['\\W']|[_])\", ' ', r) for r in text_list]\n",
        "\n",
        "#  RegEx Espacio en Blanco\n",
        "def clear_whitespaces(text_list):\n",
        "    white_spaces = [re.sub('\\s+', ' ', r) for r in text_list]\n",
        "    white_spaces_end = [re.sub('[ \\t]+$', '', r) for r in white_spaces]\n",
        "    return white_spaces_end\n",
        "\n",
        "# Remover Stopwords\n",
        "def clear_stopwords(text, cached_stopwords=stopwords.words('english')):\n",
        "    return [c.lower() for c in text.split() if c.lower() not in cached_stopwords]\n",
        "\n",
        "# Función Stemming\n",
        "def stemming_function(text, stemmer=RSLPStemmer()):\n",
        "    return [stemmer.stem(c) for c in text.split()]"
      ],
      "execution_count": null,
      "outputs": []
    },
    {
      "cell_type": "code",
      "metadata": {
        "id": "3l9lILU-GwWi"
      },
      "source": [
        "# Crea lista de palabras\n",
        "reviews = list(df_comments['comment'].values)\n",
        "\n",
        "# Aplicar RegEx Quiebra de Línea\n",
        "reviews_breakline = clear_breakline(reviews)\n",
        "df_comments['comment'] = reviews_breakline\n",
        "\n",
        "# Aplicar RegEx Links\n",
        "reviews_hiperlinks = clear_hiperlinks(reviews_breakline)\n",
        "df_comments['comment'] = reviews_hiperlinks\n",
        "\n",
        "# Aplicar RegEx Numeros\n",
        "reviews_numbers = clear_numbers(reviews_hiperlinks)\n",
        "df_comments['comment'] = reviews_numbers\n",
        "\n",
        "# Aplicar RegEx Dinero\n",
        "reviews_money = clear_money(reviews_numbers)\n",
        "df_comments['comment'] = reviews_money\n",
        "\n",
        "# Aplicar RegEx Negacion\n",
        "reviews_negation = clear_negation(reviews_money)\n",
        "df_comments['comment'] = reviews_negation\n",
        "\n",
        "# Aplicar RegEx Caracteres Especiales\n",
        "reviews_special_chars = clear_special_chars(reviews_negation)\n",
        "df_comments['comment'] = reviews_special_chars\n",
        "\n",
        "# Aplicar RegEx Espacio en Blanco\n",
        "reviews_whitespaces = clear_whitespaces(reviews_special_chars)\n",
        "df_comments['comment'] = reviews_whitespaces\n",
        "\n",
        "# Revomer stopwords\n",
        "reviews_stopwords = [' '.join(clear_stopwords(review)) for review in reviews_whitespaces]\n",
        "df_comments['comment'] = reviews_stopwords\n",
        "\n",
        "# Aplicar stemming\n",
        "reviews_stemmer = [' '.join(stemming_function(review)) for review in reviews_stopwords]\n",
        "df_comments['comment'] = reviews_stemmer"
      ],
      "execution_count": null,
      "outputs": []
    },
    {
      "cell_type": "code",
      "metadata": {
        "colab": {
          "base_uri": "https://localhost:8080/"
        },
        "id": "-vI_97HeGwPc",
        "outputId": "19f2b246-d820-4f5e-cbff-49bca9cda693"
      },
      "source": [
        "# Verificando results\n",
        "print_results(reviews, reviews_stemmer, idx_list=[427])"
      ],
      "execution_count": null,
      "outputs": [
        {
          "output_type": "stream",
          "text": [
            "--- Text 1 ---\n",
            "\n",
            "Before: \n",
            "I returned to Seoul Hot Pot to try their non-grill menu, and I came away very impressed and questioning my current devotion to Seoul Garden as the top dog in Cleveland Korean cuisine.\n",
            "\n",
            "Their seafood pancake might be the best I've had thus far, prepared with just the right amount of pancake, scallions, and seafood. Their dukbokki (spicy rice cake) also steals the crown from Seoul Garden, as it packs a much more dynamic, hearty flavor, and they even topped it off with a few strips of savory bulgogi. The rice cakes were so tender they practically melted in my mouth. Their japchae was delicious, not much else to say there. The bibimbap, however, arrived already burnt, our server forgot the chili sauce, and overall it just lacked flavor. Rounding the meal out was the banchan, which was standard fare, and the complimentary orange slices which are still out-of-this-world good.\n",
            "\n",
            "Where they take the hit this time is their service. The owner manning the tables that night, while he is a very sweet, pleasant old man, could have used some help in the service department. Parties that arrived later were waited on before people that arrived earlier. Whoops. And to mention again, he forgot the chili sauce for my bibimbap, which comes in a squeeze bottle. No biggie, he apologized and proceeded to yank it from another party's table for me. lolwut? They were still eating...\n",
            "\n",
            "Aside from those minor hiccups, my dining experience was a lot better this time around. Service was worse, but the food was spectacular. Look beyond the gimmick-y grill tables and you'll stumble upon some really good menu items.\n",
            "\n",
            "After: \n",
            "returned seoul hot pot try negation n grill menu cam away impressed questioning current devotion seoul garden top dog cleveland korean cuisin seafood pancak might best thu far prepared right amount pancak scalliom seafood dukbokk spicy ric cak als steal crown seoul garden pack much dynamic hearty flav even topped strip savory bulgog ric cak tend practically melted mouth japcha delici negation much els say bibimbap howev arrived already burnt serv forgot chil sauc overall lacked flav rounding meal banchan standard far complimentary orang slic still world good tak hit tim serv own manning tabl night sweet pleasant old man could used help serv department parti arrived lat waited peopl arrived earli whoop mention forgot chil sauc bibimbap com squeez bottl negation biggi apologized proceeded yank negation party tabl lolwut still eating asid mi negation r hiccup dining experienc lot bett tim around serv wors food spectacul look beyond gimmick grill tabl stumbl upon really good menu it\n",
            "\n"
          ],
          "name": "stdout"
        }
      ]
    },
    {
      "cell_type": "markdown",
      "metadata": {
        "id": "UnQ8PAMv-bvQ"
      },
      "source": [
        "## Extracción de características - Bag of Words\n"
      ]
    },
    {
      "cell_type": "markdown",
      "metadata": {
        "id": "UIVJfWtjjAFg"
      },
      "source": [
        "Necesitamos una forma de representar datos de texto para el algoritmo de aprendizaje automático y el modelo de 'Bag of Words' nos ayuda a lograr esa tarea. En este enfoque, usamos las palabras tokenizadas para cada observación y averiguamos la frecuencia de cada token.\n",
        "\n",
        "El proceso de convertir texto NLP en números se llama vectorización en ML."
      ]
    },
    {
      "cell_type": "code",
      "metadata": {
        "colab": {
          "base_uri": "https://localhost:8080/"
        },
        "id": "VdDYMXcd_Km4",
        "outputId": "8ff38da8-d813-4af6-e1d1-a31241c5c98d"
      },
      "source": [
        "df_comments.info()\n",
        "cunt_row = df_comments.shape[0]"
      ],
      "execution_count": null,
      "outputs": [
        {
          "output_type": "stream",
          "text": [
            "<class 'pandas.core.frame.DataFrame'>\n",
            "RangeIndex: 4983 entries, 0 to 4982\n",
            "Data columns (total 4 columns):\n",
            " #   Column    Non-Null Count  Dtype  \n",
            "---  ------    --------------  -----  \n",
            " 0   score     4983 non-null   float64\n",
            " 1   comment   4983 non-null   object \n",
            " 2   target    4983 non-null   object \n",
            " 3   language  4983 non-null   object \n",
            "dtypes: float64(1), object(3)\n",
            "memory usage: 155.8+ KB\n"
          ],
          "name": "stdout"
        }
      ]
    },
    {
      "cell_type": "code",
      "metadata": {
        "colab": {
          "base_uri": "https://localhost:8080/",
          "height": 195
        },
        "id": "F8hMI8D3_Kkm",
        "outputId": "adb3a9d3-b246-45e8-dcdd-b505fc92ba08"
      },
      "source": [
        "df_comments.head()"
      ],
      "execution_count": null,
      "outputs": [
        {
          "output_type": "execute_result",
          "data": {
            "text/html": [
              "<div>\n",
              "<style scoped>\n",
              "    .dataframe tbody tr th:only-of-type {\n",
              "        vertical-align: middle;\n",
              "    }\n",
              "\n",
              "    .dataframe tbody tr th {\n",
              "        vertical-align: top;\n",
              "    }\n",
              "\n",
              "    .dataframe thead th {\n",
              "        text-align: right;\n",
              "    }\n",
              "</style>\n",
              "<table border=\"1\" class=\"dataframe\">\n",
              "  <thead>\n",
              "    <tr style=\"text-align: right;\">\n",
              "      <th></th>\n",
              "      <th>score</th>\n",
              "      <th>comment</th>\n",
              "      <th>target</th>\n",
              "      <th>language</th>\n",
              "    </tr>\n",
              "  </thead>\n",
              "  <tbody>\n",
              "    <tr>\n",
              "      <th>0</th>\n",
              "      <td>4.0</td>\n",
              "      <td>bread chees puff beginning yummy negation afra...</td>\n",
              "      <td>positive</td>\n",
              "      <td>en</td>\n",
              "    </tr>\n",
              "    <tr>\n",
              "      <th>1</th>\n",
              "      <td>5.0</td>\n",
              "      <td>shad com great job profess helpful fast would ...</td>\n",
              "      <td>positive</td>\n",
              "      <td>en</td>\n",
              "    </tr>\n",
              "    <tr>\n",
              "      <th>2</th>\n",
              "      <td>4.0</td>\n",
              "      <td>group numb mr flaming last saturday night keep...</td>\n",
              "      <td>positive</td>\n",
              "      <td>en</td>\n",
              "    </tr>\n",
              "    <tr>\n",
              "      <th>3</th>\n",
              "      <td>4.0</td>\n",
              "      <td>harril teet closest hous check im far harril t...</td>\n",
              "      <td>positive</td>\n",
              "      <td>en</td>\n",
              "    </tr>\n",
              "    <tr>\n",
              "      <th>4</th>\n",
              "      <td>5.0</td>\n",
              "      <td>smok taqu incredibl chicken appl tac negation ...</td>\n",
              "      <td>positive</td>\n",
              "      <td>en</td>\n",
              "    </tr>\n",
              "  </tbody>\n",
              "</table>\n",
              "</div>"
            ],
            "text/plain": [
              "   score                                            comment    target language\n",
              "0    4.0  bread chees puff beginning yummy negation afra...  positive       en\n",
              "1    5.0  shad com great job profess helpful fast would ...  positive       en\n",
              "2    4.0  group numb mr flaming last saturday night keep...  positive       en\n",
              "3    4.0  harril teet closest hous check im far harril t...  positive       en\n",
              "4    5.0  smok taqu incredibl chicken appl tac negation ...  positive       en"
            ]
          },
          "metadata": {
            "tags": []
          },
          "execution_count": 51
        }
      ]
    },
    {
      "cell_type": "code",
      "metadata": {
        "colab": {
          "base_uri": "https://localhost:8080/"
        },
        "id": "XJQngqiE_KO4",
        "outputId": "7d705b94-a1c1-428f-8775-084310c798d9"
      },
      "source": [
        "# Unigramas\n",
        "unigrams_vectorizer = CountVectorizer(token_pattern='(?u)\\\\b\\\\w+\\\\b')\n",
        "unigrams = unigrams_vectorizer.fit_transform(df_comments['comment'].values.astype('U'))\n",
        "unigrams_df = pd.DataFrame(unigrams.todense(), columns=unigrams_vectorizer.get_feature_names())\n",
        "unigrams_df.info()"
      ],
      "execution_count": null,
      "outputs": [
        {
          "output_type": "stream",
          "text": [
            "<class 'pandas.core.frame.DataFrame'>\n",
            "RangeIndex: 4983 entries, 0 to 4982\n",
            "Columns: 14644 entries, aa to übe\n",
            "dtypes: int64(14644)\n",
            "memory usage: 556.7 MB\n"
          ],
          "name": "stdout"
        }
      ]
    },
    {
      "cell_type": "code",
      "metadata": {
        "id": "g4lNjyhy_KLe"
      },
      "source": [
        "# Bigramas\n",
        "#bigrams_vectorizer = CountVectorizer(ngram_range=(2,2), token_pattern='(?u)\\\\b\\\\w+\\\\b')\n",
        "#bigrams = bigrams_vectorizer.fit_transform(df_comments['comment'].values.astype('U'))\n",
        "#bigrams_df = pd.DataFrame(bigrams.todense(), columns=bigrams_vectorizer.get_feature_names())\n",
        "#bigrams_df.info()"
      ],
      "execution_count": null,
      "outputs": []
    },
    {
      "cell_type": "code",
      "metadata": {
        "id": "_oAeR868_KJC"
      },
      "source": [
        "  # Trigramas\n",
        "#trigrams_vectorizer = CountVectorizer(ngram_range=(3,3), token_pattern='(?u)\\\\b\\\\w+\\\\b')\n",
        "#trigrams = trigrams_vectorizer.fit_transform(df_comments['comment'].values.astype('U'))\n",
        "#trigrams_df = pd.DataFrame(trigrams.todense(), columns=trigrams_vectorizer.get_feature_names())\n",
        "#trigrams_df.info()"
      ],
      "execution_count": null,
      "outputs": []
    },
    {
      "cell_type": "code",
      "metadata": {
        "colab": {
          "base_uri": "https://localhost:8080/"
        },
        "id": "2Y6kUlzi_GHk",
        "outputId": "c96ca5d5-ed54-4b6e-e9c1-d660239e5e96"
      },
      "source": [
        "# Mergeamos los ngramas_df con df_comments\n",
        "df_comments = pd.concat([df_comments, unigrams_df], axis=1)\n",
        "#df_comments = pd.concat([df_comments, bigrams_df], axis=1)\n",
        "#df_comments = pd.concat([df_comments, trigrams_df], axis=1)\n",
        "df_comments.info()"
      ],
      "execution_count": null,
      "outputs": [
        {
          "output_type": "stream",
          "text": [
            "<class 'pandas.core.frame.DataFrame'>\n",
            "RangeIndex: 4983 entries, 0 to 4982\n",
            "Columns: 14648 entries, score to übe\n",
            "dtypes: float64(1), int64(14644), object(3)\n",
            "memory usage: 556.9+ MB\n"
          ],
          "name": "stdout"
        }
      ]
    },
    {
      "cell_type": "code",
      "metadata": {
        "colab": {
          "base_uri": "https://localhost:8080/",
          "height": 731
        },
        "id": "ACgUa4U51LwU",
        "outputId": "25c43280-aeed-41ab-87e6-97ae571ad1dd"
      },
      "source": [
        "df_comments.head()"
      ],
      "execution_count": null,
      "outputs": [
        {
          "output_type": "execute_result",
          "data": {
            "text/html": [
              "<div>\n",
              "<style scoped>\n",
              "    .dataframe tbody tr th:only-of-type {\n",
              "        vertical-align: middle;\n",
              "    }\n",
              "\n",
              "    .dataframe tbody tr th {\n",
              "        vertical-align: top;\n",
              "    }\n",
              "\n",
              "    .dataframe thead th {\n",
              "        text-align: right;\n",
              "    }\n",
              "</style>\n",
              "<table border=\"1\" class=\"dataframe\">\n",
              "  <thead>\n",
              "    <tr style=\"text-align: right;\">\n",
              "      <th></th>\n",
              "      <th>score</th>\n",
              "      <th>comment</th>\n",
              "      <th>target</th>\n",
              "      <th>language</th>\n",
              "      <th>aa</th>\n",
              "      <th>aaa</th>\n",
              "      <th>aangan</th>\n",
              "      <th>aardvark</th>\n",
              "      <th>aaron</th>\n",
              "      <th>ab</th>\n",
              "      <th>abalon</th>\n",
              "      <th>abandoned</th>\n",
              "      <th>abay</th>\n",
              "      <th>abbey</th>\n",
              "      <th>abbit</th>\n",
              "      <th>abbreviated</th>\n",
              "      <th>abby</th>\n",
              "      <th>abc</th>\n",
              "      <th>abdom</th>\n",
              "      <th>abdomen</th>\n",
              "      <th>abdul</th>\n",
              "      <th>abead</th>\n",
              "      <th>abeul</th>\n",
              "      <th>abiding</th>\n",
              "      <th>ability</th>\n",
              "      <th>abl</th>\n",
              "      <th>ably</th>\n",
              "      <th>abr</th>\n",
              "      <th>abroad</th>\n",
              "      <th>abrupt</th>\n",
              "      <th>abruptly</th>\n",
              "      <th>absenc</th>\n",
              "      <th>absolut</th>\n",
              "      <th>absolutely</th>\n",
              "      <th>absolutley</th>\n",
              "      <th>absoluty</th>\n",
              "      <th>absorb</th>\n",
              "      <th>absorbed</th>\n",
              "      <th>abuel</th>\n",
              "      <th>abundanc</th>\n",
              "      <th>...</th>\n",
              "      <th>zapat</th>\n",
              "      <th>zapp</th>\n",
              "      <th>zar</th>\n",
              "      <th>zatt</th>\n",
              "      <th>zberri</th>\n",
              "      <th>zeal</th>\n",
              "      <th>zealand</th>\n",
              "      <th>zek</th>\n",
              "      <th>zen</th>\n",
              "      <th>zep</th>\n",
              "      <th>zepool</th>\n",
              "      <th>zeppol</th>\n",
              "      <th>zer</th>\n",
              "      <th>zereshk</th>\n",
              "      <th>zeroing</th>\n",
              "      <th>zeu</th>\n",
              "      <th>zhou</th>\n",
              "      <th>zillion</th>\n",
              "      <th>zin</th>\n",
              "      <th>zinburg</th>\n",
              "      <th>zing</th>\n",
              "      <th>zion</th>\n",
              "      <th>zip</th>\n",
              "      <th>ziplining</th>\n",
              "      <th>zipp</th>\n",
              "      <th>zippy</th>\n",
              "      <th>znnemnz</th>\n",
              "      <th>zogoflex</th>\n",
              "      <th>zombi</th>\n",
              "      <th>zon</th>\n",
              "      <th>zoned</th>\n",
              "      <th>zoning</th>\n",
              "      <th>zoo</th>\n",
              "      <th>zucchin</th>\n",
              "      <th>zuchinn</th>\n",
              "      <th>zupp</th>\n",
              "      <th>zuzu</th>\n",
              "      <th>¼</th>\n",
              "      <th>à</th>\n",
              "      <th>übe</th>\n",
              "    </tr>\n",
              "  </thead>\n",
              "  <tbody>\n",
              "    <tr>\n",
              "      <th>0</th>\n",
              "      <td>4.0</td>\n",
              "      <td>bread chees puff beginning yummy negation afra...</td>\n",
              "      <td>positive</td>\n",
              "      <td>en</td>\n",
              "      <td>0</td>\n",
              "      <td>0</td>\n",
              "      <td>0</td>\n",
              "      <td>0</td>\n",
              "      <td>0</td>\n",
              "      <td>0</td>\n",
              "      <td>0</td>\n",
              "      <td>0</td>\n",
              "      <td>0</td>\n",
              "      <td>0</td>\n",
              "      <td>0</td>\n",
              "      <td>0</td>\n",
              "      <td>0</td>\n",
              "      <td>0</td>\n",
              "      <td>0</td>\n",
              "      <td>0</td>\n",
              "      <td>0</td>\n",
              "      <td>0</td>\n",
              "      <td>0</td>\n",
              "      <td>0</td>\n",
              "      <td>0</td>\n",
              "      <td>0</td>\n",
              "      <td>0</td>\n",
              "      <td>0</td>\n",
              "      <td>0</td>\n",
              "      <td>0</td>\n",
              "      <td>0</td>\n",
              "      <td>0</td>\n",
              "      <td>0</td>\n",
              "      <td>0</td>\n",
              "      <td>0</td>\n",
              "      <td>0</td>\n",
              "      <td>0</td>\n",
              "      <td>0</td>\n",
              "      <td>0</td>\n",
              "      <td>0</td>\n",
              "      <td>...</td>\n",
              "      <td>0</td>\n",
              "      <td>0</td>\n",
              "      <td>0</td>\n",
              "      <td>0</td>\n",
              "      <td>0</td>\n",
              "      <td>0</td>\n",
              "      <td>0</td>\n",
              "      <td>0</td>\n",
              "      <td>0</td>\n",
              "      <td>0</td>\n",
              "      <td>0</td>\n",
              "      <td>0</td>\n",
              "      <td>0</td>\n",
              "      <td>0</td>\n",
              "      <td>0</td>\n",
              "      <td>0</td>\n",
              "      <td>0</td>\n",
              "      <td>0</td>\n",
              "      <td>0</td>\n",
              "      <td>0</td>\n",
              "      <td>0</td>\n",
              "      <td>0</td>\n",
              "      <td>0</td>\n",
              "      <td>0</td>\n",
              "      <td>0</td>\n",
              "      <td>0</td>\n",
              "      <td>0</td>\n",
              "      <td>0</td>\n",
              "      <td>0</td>\n",
              "      <td>0</td>\n",
              "      <td>0</td>\n",
              "      <td>0</td>\n",
              "      <td>0</td>\n",
              "      <td>0</td>\n",
              "      <td>0</td>\n",
              "      <td>0</td>\n",
              "      <td>0</td>\n",
              "      <td>0</td>\n",
              "      <td>0</td>\n",
              "      <td>0</td>\n",
              "    </tr>\n",
              "    <tr>\n",
              "      <th>1</th>\n",
              "      <td>5.0</td>\n",
              "      <td>shad com great job profess helpful fast would ...</td>\n",
              "      <td>positive</td>\n",
              "      <td>en</td>\n",
              "      <td>0</td>\n",
              "      <td>0</td>\n",
              "      <td>0</td>\n",
              "      <td>0</td>\n",
              "      <td>0</td>\n",
              "      <td>0</td>\n",
              "      <td>0</td>\n",
              "      <td>0</td>\n",
              "      <td>0</td>\n",
              "      <td>0</td>\n",
              "      <td>0</td>\n",
              "      <td>0</td>\n",
              "      <td>0</td>\n",
              "      <td>0</td>\n",
              "      <td>0</td>\n",
              "      <td>0</td>\n",
              "      <td>0</td>\n",
              "      <td>0</td>\n",
              "      <td>0</td>\n",
              "      <td>0</td>\n",
              "      <td>0</td>\n",
              "      <td>0</td>\n",
              "      <td>0</td>\n",
              "      <td>0</td>\n",
              "      <td>0</td>\n",
              "      <td>0</td>\n",
              "      <td>0</td>\n",
              "      <td>0</td>\n",
              "      <td>0</td>\n",
              "      <td>0</td>\n",
              "      <td>0</td>\n",
              "      <td>0</td>\n",
              "      <td>0</td>\n",
              "      <td>0</td>\n",
              "      <td>0</td>\n",
              "      <td>0</td>\n",
              "      <td>...</td>\n",
              "      <td>0</td>\n",
              "      <td>0</td>\n",
              "      <td>0</td>\n",
              "      <td>0</td>\n",
              "      <td>0</td>\n",
              "      <td>0</td>\n",
              "      <td>0</td>\n",
              "      <td>0</td>\n",
              "      <td>0</td>\n",
              "      <td>0</td>\n",
              "      <td>0</td>\n",
              "      <td>0</td>\n",
              "      <td>0</td>\n",
              "      <td>0</td>\n",
              "      <td>0</td>\n",
              "      <td>0</td>\n",
              "      <td>0</td>\n",
              "      <td>0</td>\n",
              "      <td>0</td>\n",
              "      <td>0</td>\n",
              "      <td>0</td>\n",
              "      <td>0</td>\n",
              "      <td>0</td>\n",
              "      <td>0</td>\n",
              "      <td>0</td>\n",
              "      <td>0</td>\n",
              "      <td>0</td>\n",
              "      <td>0</td>\n",
              "      <td>0</td>\n",
              "      <td>0</td>\n",
              "      <td>0</td>\n",
              "      <td>0</td>\n",
              "      <td>0</td>\n",
              "      <td>0</td>\n",
              "      <td>0</td>\n",
              "      <td>0</td>\n",
              "      <td>0</td>\n",
              "      <td>0</td>\n",
              "      <td>0</td>\n",
              "      <td>0</td>\n",
              "    </tr>\n",
              "    <tr>\n",
              "      <th>2</th>\n",
              "      <td>4.0</td>\n",
              "      <td>group numb mr flaming last saturday night keep...</td>\n",
              "      <td>positive</td>\n",
              "      <td>en</td>\n",
              "      <td>0</td>\n",
              "      <td>0</td>\n",
              "      <td>0</td>\n",
              "      <td>0</td>\n",
              "      <td>0</td>\n",
              "      <td>0</td>\n",
              "      <td>0</td>\n",
              "      <td>0</td>\n",
              "      <td>0</td>\n",
              "      <td>0</td>\n",
              "      <td>0</td>\n",
              "      <td>0</td>\n",
              "      <td>0</td>\n",
              "      <td>0</td>\n",
              "      <td>0</td>\n",
              "      <td>0</td>\n",
              "      <td>0</td>\n",
              "      <td>0</td>\n",
              "      <td>0</td>\n",
              "      <td>0</td>\n",
              "      <td>0</td>\n",
              "      <td>0</td>\n",
              "      <td>0</td>\n",
              "      <td>0</td>\n",
              "      <td>0</td>\n",
              "      <td>0</td>\n",
              "      <td>0</td>\n",
              "      <td>0</td>\n",
              "      <td>0</td>\n",
              "      <td>0</td>\n",
              "      <td>0</td>\n",
              "      <td>0</td>\n",
              "      <td>0</td>\n",
              "      <td>0</td>\n",
              "      <td>0</td>\n",
              "      <td>0</td>\n",
              "      <td>...</td>\n",
              "      <td>0</td>\n",
              "      <td>0</td>\n",
              "      <td>0</td>\n",
              "      <td>0</td>\n",
              "      <td>0</td>\n",
              "      <td>0</td>\n",
              "      <td>0</td>\n",
              "      <td>0</td>\n",
              "      <td>0</td>\n",
              "      <td>0</td>\n",
              "      <td>0</td>\n",
              "      <td>0</td>\n",
              "      <td>0</td>\n",
              "      <td>0</td>\n",
              "      <td>0</td>\n",
              "      <td>0</td>\n",
              "      <td>0</td>\n",
              "      <td>0</td>\n",
              "      <td>0</td>\n",
              "      <td>0</td>\n",
              "      <td>0</td>\n",
              "      <td>0</td>\n",
              "      <td>0</td>\n",
              "      <td>0</td>\n",
              "      <td>0</td>\n",
              "      <td>0</td>\n",
              "      <td>0</td>\n",
              "      <td>0</td>\n",
              "      <td>0</td>\n",
              "      <td>0</td>\n",
              "      <td>0</td>\n",
              "      <td>0</td>\n",
              "      <td>0</td>\n",
              "      <td>0</td>\n",
              "      <td>0</td>\n",
              "      <td>0</td>\n",
              "      <td>0</td>\n",
              "      <td>0</td>\n",
              "      <td>0</td>\n",
              "      <td>0</td>\n",
              "    </tr>\n",
              "    <tr>\n",
              "      <th>3</th>\n",
              "      <td>4.0</td>\n",
              "      <td>harril teet closest hous check im far harril t...</td>\n",
              "      <td>positive</td>\n",
              "      <td>en</td>\n",
              "      <td>0</td>\n",
              "      <td>0</td>\n",
              "      <td>0</td>\n",
              "      <td>0</td>\n",
              "      <td>0</td>\n",
              "      <td>0</td>\n",
              "      <td>0</td>\n",
              "      <td>0</td>\n",
              "      <td>0</td>\n",
              "      <td>0</td>\n",
              "      <td>0</td>\n",
              "      <td>0</td>\n",
              "      <td>0</td>\n",
              "      <td>0</td>\n",
              "      <td>0</td>\n",
              "      <td>0</td>\n",
              "      <td>0</td>\n",
              "      <td>0</td>\n",
              "      <td>0</td>\n",
              "      <td>0</td>\n",
              "      <td>0</td>\n",
              "      <td>0</td>\n",
              "      <td>0</td>\n",
              "      <td>0</td>\n",
              "      <td>0</td>\n",
              "      <td>0</td>\n",
              "      <td>0</td>\n",
              "      <td>0</td>\n",
              "      <td>0</td>\n",
              "      <td>0</td>\n",
              "      <td>0</td>\n",
              "      <td>0</td>\n",
              "      <td>0</td>\n",
              "      <td>0</td>\n",
              "      <td>0</td>\n",
              "      <td>0</td>\n",
              "      <td>...</td>\n",
              "      <td>0</td>\n",
              "      <td>0</td>\n",
              "      <td>0</td>\n",
              "      <td>0</td>\n",
              "      <td>0</td>\n",
              "      <td>0</td>\n",
              "      <td>0</td>\n",
              "      <td>0</td>\n",
              "      <td>0</td>\n",
              "      <td>0</td>\n",
              "      <td>0</td>\n",
              "      <td>0</td>\n",
              "      <td>0</td>\n",
              "      <td>0</td>\n",
              "      <td>0</td>\n",
              "      <td>0</td>\n",
              "      <td>0</td>\n",
              "      <td>0</td>\n",
              "      <td>0</td>\n",
              "      <td>0</td>\n",
              "      <td>0</td>\n",
              "      <td>0</td>\n",
              "      <td>0</td>\n",
              "      <td>0</td>\n",
              "      <td>0</td>\n",
              "      <td>0</td>\n",
              "      <td>0</td>\n",
              "      <td>0</td>\n",
              "      <td>0</td>\n",
              "      <td>0</td>\n",
              "      <td>0</td>\n",
              "      <td>0</td>\n",
              "      <td>0</td>\n",
              "      <td>0</td>\n",
              "      <td>0</td>\n",
              "      <td>0</td>\n",
              "      <td>0</td>\n",
              "      <td>0</td>\n",
              "      <td>0</td>\n",
              "      <td>0</td>\n",
              "    </tr>\n",
              "    <tr>\n",
              "      <th>4</th>\n",
              "      <td>5.0</td>\n",
              "      <td>smok taqu incredibl chicken appl tac negation ...</td>\n",
              "      <td>positive</td>\n",
              "      <td>en</td>\n",
              "      <td>0</td>\n",
              "      <td>0</td>\n",
              "      <td>0</td>\n",
              "      <td>0</td>\n",
              "      <td>0</td>\n",
              "      <td>0</td>\n",
              "      <td>0</td>\n",
              "      <td>0</td>\n",
              "      <td>0</td>\n",
              "      <td>0</td>\n",
              "      <td>0</td>\n",
              "      <td>0</td>\n",
              "      <td>0</td>\n",
              "      <td>0</td>\n",
              "      <td>0</td>\n",
              "      <td>0</td>\n",
              "      <td>0</td>\n",
              "      <td>0</td>\n",
              "      <td>0</td>\n",
              "      <td>0</td>\n",
              "      <td>0</td>\n",
              "      <td>0</td>\n",
              "      <td>0</td>\n",
              "      <td>0</td>\n",
              "      <td>0</td>\n",
              "      <td>0</td>\n",
              "      <td>0</td>\n",
              "      <td>0</td>\n",
              "      <td>0</td>\n",
              "      <td>0</td>\n",
              "      <td>0</td>\n",
              "      <td>0</td>\n",
              "      <td>0</td>\n",
              "      <td>0</td>\n",
              "      <td>0</td>\n",
              "      <td>0</td>\n",
              "      <td>...</td>\n",
              "      <td>0</td>\n",
              "      <td>0</td>\n",
              "      <td>0</td>\n",
              "      <td>0</td>\n",
              "      <td>0</td>\n",
              "      <td>0</td>\n",
              "      <td>0</td>\n",
              "      <td>0</td>\n",
              "      <td>0</td>\n",
              "      <td>0</td>\n",
              "      <td>0</td>\n",
              "      <td>0</td>\n",
              "      <td>0</td>\n",
              "      <td>0</td>\n",
              "      <td>0</td>\n",
              "      <td>0</td>\n",
              "      <td>0</td>\n",
              "      <td>0</td>\n",
              "      <td>0</td>\n",
              "      <td>0</td>\n",
              "      <td>0</td>\n",
              "      <td>0</td>\n",
              "      <td>0</td>\n",
              "      <td>0</td>\n",
              "      <td>0</td>\n",
              "      <td>0</td>\n",
              "      <td>0</td>\n",
              "      <td>0</td>\n",
              "      <td>0</td>\n",
              "      <td>0</td>\n",
              "      <td>0</td>\n",
              "      <td>0</td>\n",
              "      <td>0</td>\n",
              "      <td>0</td>\n",
              "      <td>0</td>\n",
              "      <td>0</td>\n",
              "      <td>0</td>\n",
              "      <td>0</td>\n",
              "      <td>0</td>\n",
              "      <td>0</td>\n",
              "    </tr>\n",
              "  </tbody>\n",
              "</table>\n",
              "<p>5 rows × 14648 columns</p>\n",
              "</div>"
            ],
            "text/plain": [
              "   score                                            comment  ...  à übe\n",
              "0    4.0  bread chees puff beginning yummy negation afra...  ...  0   0\n",
              "1    5.0  shad com great job profess helpful fast would ...  ...  0   0\n",
              "2    4.0  group numb mr flaming last saturday night keep...  ...  0   0\n",
              "3    4.0  harril teet closest hous check im far harril t...  ...  0   0\n",
              "4    5.0  smok taqu incredibl chicken appl tac negation ...  ...  0   0\n",
              "\n",
              "[5 rows x 14648 columns]"
            ]
          },
          "metadata": {
            "tags": []
          },
          "execution_count": 56
        }
      ]
    },
    {
      "cell_type": "markdown",
      "metadata": {
        "id": "cJa9tgI-OfLw"
      },
      "source": [
        "## Sentiment Analysis\n",
        "\n"
      ]
    },
    {
      "cell_type": "code",
      "metadata": {
        "colab": {
          "base_uri": "https://localhost:8080/"
        },
        "id": "Vqqod_C9QfON",
        "outputId": "ce26ad07-40ed-45b3-a70f-5b027c6732bd"
      },
      "source": [
        "df_comments = df_comments.loc[:, ~df_comments.columns.duplicated()]\n",
        "df_comments['target']"
      ],
      "execution_count": null,
      "outputs": [
        {
          "output_type": "execute_result",
          "data": {
            "text/plain": [
              "0       positive\n",
              "1       positive\n",
              "2       positive\n",
              "3       positive\n",
              "4       positive\n",
              "          ...   \n",
              "4978    positive\n",
              "4979    positive\n",
              "4980    positive\n",
              "4981    negative\n",
              "4982    positive\n",
              "Name: target, Length: 4983, dtype: object"
            ]
          },
          "metadata": {
            "tags": []
          },
          "execution_count": 57
        }
      ]
    },
    {
      "cell_type": "code",
      "metadata": {
        "colab": {
          "base_uri": "https://localhost:8080/",
          "height": 244
        },
        "id": "0aLqi6VYBVyy",
        "outputId": "48f6d87d-14b8-485c-ae0f-977cc87a98f9"
      },
      "source": [
        "X = df_comments.drop(columns=['score', 'comment', 'language','target'])\n",
        "X.head()"
      ],
      "execution_count": null,
      "outputs": [
        {
          "output_type": "execute_result",
          "data": {
            "text/html": [
              "<div>\n",
              "<style scoped>\n",
              "    .dataframe tbody tr th:only-of-type {\n",
              "        vertical-align: middle;\n",
              "    }\n",
              "\n",
              "    .dataframe tbody tr th {\n",
              "        vertical-align: top;\n",
              "    }\n",
              "\n",
              "    .dataframe thead th {\n",
              "        text-align: right;\n",
              "    }\n",
              "</style>\n",
              "<table border=\"1\" class=\"dataframe\">\n",
              "  <thead>\n",
              "    <tr style=\"text-align: right;\">\n",
              "      <th></th>\n",
              "      <th>aa</th>\n",
              "      <th>aaa</th>\n",
              "      <th>aangan</th>\n",
              "      <th>aardvark</th>\n",
              "      <th>aaron</th>\n",
              "      <th>ab</th>\n",
              "      <th>abalon</th>\n",
              "      <th>abandoned</th>\n",
              "      <th>abay</th>\n",
              "      <th>abbey</th>\n",
              "      <th>abbit</th>\n",
              "      <th>abbreviated</th>\n",
              "      <th>abby</th>\n",
              "      <th>abc</th>\n",
              "      <th>abdom</th>\n",
              "      <th>abdomen</th>\n",
              "      <th>abdul</th>\n",
              "      <th>abead</th>\n",
              "      <th>abeul</th>\n",
              "      <th>abiding</th>\n",
              "      <th>ability</th>\n",
              "      <th>abl</th>\n",
              "      <th>ably</th>\n",
              "      <th>abr</th>\n",
              "      <th>abroad</th>\n",
              "      <th>abrupt</th>\n",
              "      <th>abruptly</th>\n",
              "      <th>absenc</th>\n",
              "      <th>absolut</th>\n",
              "      <th>absolutely</th>\n",
              "      <th>absolutley</th>\n",
              "      <th>absoluty</th>\n",
              "      <th>absorb</th>\n",
              "      <th>absorbed</th>\n",
              "      <th>abuel</th>\n",
              "      <th>abundanc</th>\n",
              "      <th>abundant</th>\n",
              "      <th>abus</th>\n",
              "      <th>abused</th>\n",
              "      <th>abusiv</th>\n",
              "      <th>...</th>\n",
              "      <th>zapat</th>\n",
              "      <th>zapp</th>\n",
              "      <th>zar</th>\n",
              "      <th>zatt</th>\n",
              "      <th>zberri</th>\n",
              "      <th>zeal</th>\n",
              "      <th>zealand</th>\n",
              "      <th>zek</th>\n",
              "      <th>zen</th>\n",
              "      <th>zep</th>\n",
              "      <th>zepool</th>\n",
              "      <th>zeppol</th>\n",
              "      <th>zer</th>\n",
              "      <th>zereshk</th>\n",
              "      <th>zeroing</th>\n",
              "      <th>zeu</th>\n",
              "      <th>zhou</th>\n",
              "      <th>zillion</th>\n",
              "      <th>zin</th>\n",
              "      <th>zinburg</th>\n",
              "      <th>zing</th>\n",
              "      <th>zion</th>\n",
              "      <th>zip</th>\n",
              "      <th>ziplining</th>\n",
              "      <th>zipp</th>\n",
              "      <th>zippy</th>\n",
              "      <th>znnemnz</th>\n",
              "      <th>zogoflex</th>\n",
              "      <th>zombi</th>\n",
              "      <th>zon</th>\n",
              "      <th>zoned</th>\n",
              "      <th>zoning</th>\n",
              "      <th>zoo</th>\n",
              "      <th>zucchin</th>\n",
              "      <th>zuchinn</th>\n",
              "      <th>zupp</th>\n",
              "      <th>zuzu</th>\n",
              "      <th>¼</th>\n",
              "      <th>à</th>\n",
              "      <th>übe</th>\n",
              "    </tr>\n",
              "  </thead>\n",
              "  <tbody>\n",
              "    <tr>\n",
              "      <th>0</th>\n",
              "      <td>0</td>\n",
              "      <td>0</td>\n",
              "      <td>0</td>\n",
              "      <td>0</td>\n",
              "      <td>0</td>\n",
              "      <td>0</td>\n",
              "      <td>0</td>\n",
              "      <td>0</td>\n",
              "      <td>0</td>\n",
              "      <td>0</td>\n",
              "      <td>0</td>\n",
              "      <td>0</td>\n",
              "      <td>0</td>\n",
              "      <td>0</td>\n",
              "      <td>0</td>\n",
              "      <td>0</td>\n",
              "      <td>0</td>\n",
              "      <td>0</td>\n",
              "      <td>0</td>\n",
              "      <td>0</td>\n",
              "      <td>0</td>\n",
              "      <td>0</td>\n",
              "      <td>0</td>\n",
              "      <td>0</td>\n",
              "      <td>0</td>\n",
              "      <td>0</td>\n",
              "      <td>0</td>\n",
              "      <td>0</td>\n",
              "      <td>0</td>\n",
              "      <td>0</td>\n",
              "      <td>0</td>\n",
              "      <td>0</td>\n",
              "      <td>0</td>\n",
              "      <td>0</td>\n",
              "      <td>0</td>\n",
              "      <td>0</td>\n",
              "      <td>0</td>\n",
              "      <td>0</td>\n",
              "      <td>0</td>\n",
              "      <td>0</td>\n",
              "      <td>...</td>\n",
              "      <td>0</td>\n",
              "      <td>0</td>\n",
              "      <td>0</td>\n",
              "      <td>0</td>\n",
              "      <td>0</td>\n",
              "      <td>0</td>\n",
              "      <td>0</td>\n",
              "      <td>0</td>\n",
              "      <td>0</td>\n",
              "      <td>0</td>\n",
              "      <td>0</td>\n",
              "      <td>0</td>\n",
              "      <td>0</td>\n",
              "      <td>0</td>\n",
              "      <td>0</td>\n",
              "      <td>0</td>\n",
              "      <td>0</td>\n",
              "      <td>0</td>\n",
              "      <td>0</td>\n",
              "      <td>0</td>\n",
              "      <td>0</td>\n",
              "      <td>0</td>\n",
              "      <td>0</td>\n",
              "      <td>0</td>\n",
              "      <td>0</td>\n",
              "      <td>0</td>\n",
              "      <td>0</td>\n",
              "      <td>0</td>\n",
              "      <td>0</td>\n",
              "      <td>0</td>\n",
              "      <td>0</td>\n",
              "      <td>0</td>\n",
              "      <td>0</td>\n",
              "      <td>0</td>\n",
              "      <td>0</td>\n",
              "      <td>0</td>\n",
              "      <td>0</td>\n",
              "      <td>0</td>\n",
              "      <td>0</td>\n",
              "      <td>0</td>\n",
              "    </tr>\n",
              "    <tr>\n",
              "      <th>1</th>\n",
              "      <td>0</td>\n",
              "      <td>0</td>\n",
              "      <td>0</td>\n",
              "      <td>0</td>\n",
              "      <td>0</td>\n",
              "      <td>0</td>\n",
              "      <td>0</td>\n",
              "      <td>0</td>\n",
              "      <td>0</td>\n",
              "      <td>0</td>\n",
              "      <td>0</td>\n",
              "      <td>0</td>\n",
              "      <td>0</td>\n",
              "      <td>0</td>\n",
              "      <td>0</td>\n",
              "      <td>0</td>\n",
              "      <td>0</td>\n",
              "      <td>0</td>\n",
              "      <td>0</td>\n",
              "      <td>0</td>\n",
              "      <td>0</td>\n",
              "      <td>0</td>\n",
              "      <td>0</td>\n",
              "      <td>0</td>\n",
              "      <td>0</td>\n",
              "      <td>0</td>\n",
              "      <td>0</td>\n",
              "      <td>0</td>\n",
              "      <td>0</td>\n",
              "      <td>0</td>\n",
              "      <td>0</td>\n",
              "      <td>0</td>\n",
              "      <td>0</td>\n",
              "      <td>0</td>\n",
              "      <td>0</td>\n",
              "      <td>0</td>\n",
              "      <td>0</td>\n",
              "      <td>0</td>\n",
              "      <td>0</td>\n",
              "      <td>0</td>\n",
              "      <td>...</td>\n",
              "      <td>0</td>\n",
              "      <td>0</td>\n",
              "      <td>0</td>\n",
              "      <td>0</td>\n",
              "      <td>0</td>\n",
              "      <td>0</td>\n",
              "      <td>0</td>\n",
              "      <td>0</td>\n",
              "      <td>0</td>\n",
              "      <td>0</td>\n",
              "      <td>0</td>\n",
              "      <td>0</td>\n",
              "      <td>0</td>\n",
              "      <td>0</td>\n",
              "      <td>0</td>\n",
              "      <td>0</td>\n",
              "      <td>0</td>\n",
              "      <td>0</td>\n",
              "      <td>0</td>\n",
              "      <td>0</td>\n",
              "      <td>0</td>\n",
              "      <td>0</td>\n",
              "      <td>0</td>\n",
              "      <td>0</td>\n",
              "      <td>0</td>\n",
              "      <td>0</td>\n",
              "      <td>0</td>\n",
              "      <td>0</td>\n",
              "      <td>0</td>\n",
              "      <td>0</td>\n",
              "      <td>0</td>\n",
              "      <td>0</td>\n",
              "      <td>0</td>\n",
              "      <td>0</td>\n",
              "      <td>0</td>\n",
              "      <td>0</td>\n",
              "      <td>0</td>\n",
              "      <td>0</td>\n",
              "      <td>0</td>\n",
              "      <td>0</td>\n",
              "    </tr>\n",
              "    <tr>\n",
              "      <th>2</th>\n",
              "      <td>0</td>\n",
              "      <td>0</td>\n",
              "      <td>0</td>\n",
              "      <td>0</td>\n",
              "      <td>0</td>\n",
              "      <td>0</td>\n",
              "      <td>0</td>\n",
              "      <td>0</td>\n",
              "      <td>0</td>\n",
              "      <td>0</td>\n",
              "      <td>0</td>\n",
              "      <td>0</td>\n",
              "      <td>0</td>\n",
              "      <td>0</td>\n",
              "      <td>0</td>\n",
              "      <td>0</td>\n",
              "      <td>0</td>\n",
              "      <td>0</td>\n",
              "      <td>0</td>\n",
              "      <td>0</td>\n",
              "      <td>0</td>\n",
              "      <td>0</td>\n",
              "      <td>0</td>\n",
              "      <td>0</td>\n",
              "      <td>0</td>\n",
              "      <td>0</td>\n",
              "      <td>0</td>\n",
              "      <td>0</td>\n",
              "      <td>0</td>\n",
              "      <td>0</td>\n",
              "      <td>0</td>\n",
              "      <td>0</td>\n",
              "      <td>0</td>\n",
              "      <td>0</td>\n",
              "      <td>0</td>\n",
              "      <td>0</td>\n",
              "      <td>0</td>\n",
              "      <td>0</td>\n",
              "      <td>0</td>\n",
              "      <td>0</td>\n",
              "      <td>...</td>\n",
              "      <td>0</td>\n",
              "      <td>0</td>\n",
              "      <td>0</td>\n",
              "      <td>0</td>\n",
              "      <td>0</td>\n",
              "      <td>0</td>\n",
              "      <td>0</td>\n",
              "      <td>0</td>\n",
              "      <td>0</td>\n",
              "      <td>0</td>\n",
              "      <td>0</td>\n",
              "      <td>0</td>\n",
              "      <td>0</td>\n",
              "      <td>0</td>\n",
              "      <td>0</td>\n",
              "      <td>0</td>\n",
              "      <td>0</td>\n",
              "      <td>0</td>\n",
              "      <td>0</td>\n",
              "      <td>0</td>\n",
              "      <td>0</td>\n",
              "      <td>0</td>\n",
              "      <td>0</td>\n",
              "      <td>0</td>\n",
              "      <td>0</td>\n",
              "      <td>0</td>\n",
              "      <td>0</td>\n",
              "      <td>0</td>\n",
              "      <td>0</td>\n",
              "      <td>0</td>\n",
              "      <td>0</td>\n",
              "      <td>0</td>\n",
              "      <td>0</td>\n",
              "      <td>0</td>\n",
              "      <td>0</td>\n",
              "      <td>0</td>\n",
              "      <td>0</td>\n",
              "      <td>0</td>\n",
              "      <td>0</td>\n",
              "      <td>0</td>\n",
              "    </tr>\n",
              "    <tr>\n",
              "      <th>3</th>\n",
              "      <td>0</td>\n",
              "      <td>0</td>\n",
              "      <td>0</td>\n",
              "      <td>0</td>\n",
              "      <td>0</td>\n",
              "      <td>0</td>\n",
              "      <td>0</td>\n",
              "      <td>0</td>\n",
              "      <td>0</td>\n",
              "      <td>0</td>\n",
              "      <td>0</td>\n",
              "      <td>0</td>\n",
              "      <td>0</td>\n",
              "      <td>0</td>\n",
              "      <td>0</td>\n",
              "      <td>0</td>\n",
              "      <td>0</td>\n",
              "      <td>0</td>\n",
              "      <td>0</td>\n",
              "      <td>0</td>\n",
              "      <td>0</td>\n",
              "      <td>0</td>\n",
              "      <td>0</td>\n",
              "      <td>0</td>\n",
              "      <td>0</td>\n",
              "      <td>0</td>\n",
              "      <td>0</td>\n",
              "      <td>0</td>\n",
              "      <td>0</td>\n",
              "      <td>0</td>\n",
              "      <td>0</td>\n",
              "      <td>0</td>\n",
              "      <td>0</td>\n",
              "      <td>0</td>\n",
              "      <td>0</td>\n",
              "      <td>0</td>\n",
              "      <td>0</td>\n",
              "      <td>0</td>\n",
              "      <td>0</td>\n",
              "      <td>0</td>\n",
              "      <td>...</td>\n",
              "      <td>0</td>\n",
              "      <td>0</td>\n",
              "      <td>0</td>\n",
              "      <td>0</td>\n",
              "      <td>0</td>\n",
              "      <td>0</td>\n",
              "      <td>0</td>\n",
              "      <td>0</td>\n",
              "      <td>0</td>\n",
              "      <td>0</td>\n",
              "      <td>0</td>\n",
              "      <td>0</td>\n",
              "      <td>0</td>\n",
              "      <td>0</td>\n",
              "      <td>0</td>\n",
              "      <td>0</td>\n",
              "      <td>0</td>\n",
              "      <td>0</td>\n",
              "      <td>0</td>\n",
              "      <td>0</td>\n",
              "      <td>0</td>\n",
              "      <td>0</td>\n",
              "      <td>0</td>\n",
              "      <td>0</td>\n",
              "      <td>0</td>\n",
              "      <td>0</td>\n",
              "      <td>0</td>\n",
              "      <td>0</td>\n",
              "      <td>0</td>\n",
              "      <td>0</td>\n",
              "      <td>0</td>\n",
              "      <td>0</td>\n",
              "      <td>0</td>\n",
              "      <td>0</td>\n",
              "      <td>0</td>\n",
              "      <td>0</td>\n",
              "      <td>0</td>\n",
              "      <td>0</td>\n",
              "      <td>0</td>\n",
              "      <td>0</td>\n",
              "    </tr>\n",
              "    <tr>\n",
              "      <th>4</th>\n",
              "      <td>0</td>\n",
              "      <td>0</td>\n",
              "      <td>0</td>\n",
              "      <td>0</td>\n",
              "      <td>0</td>\n",
              "      <td>0</td>\n",
              "      <td>0</td>\n",
              "      <td>0</td>\n",
              "      <td>0</td>\n",
              "      <td>0</td>\n",
              "      <td>0</td>\n",
              "      <td>0</td>\n",
              "      <td>0</td>\n",
              "      <td>0</td>\n",
              "      <td>0</td>\n",
              "      <td>0</td>\n",
              "      <td>0</td>\n",
              "      <td>0</td>\n",
              "      <td>0</td>\n",
              "      <td>0</td>\n",
              "      <td>0</td>\n",
              "      <td>0</td>\n",
              "      <td>0</td>\n",
              "      <td>0</td>\n",
              "      <td>0</td>\n",
              "      <td>0</td>\n",
              "      <td>0</td>\n",
              "      <td>0</td>\n",
              "      <td>0</td>\n",
              "      <td>0</td>\n",
              "      <td>0</td>\n",
              "      <td>0</td>\n",
              "      <td>0</td>\n",
              "      <td>0</td>\n",
              "      <td>0</td>\n",
              "      <td>0</td>\n",
              "      <td>0</td>\n",
              "      <td>0</td>\n",
              "      <td>0</td>\n",
              "      <td>0</td>\n",
              "      <td>...</td>\n",
              "      <td>0</td>\n",
              "      <td>0</td>\n",
              "      <td>0</td>\n",
              "      <td>0</td>\n",
              "      <td>0</td>\n",
              "      <td>0</td>\n",
              "      <td>0</td>\n",
              "      <td>0</td>\n",
              "      <td>0</td>\n",
              "      <td>0</td>\n",
              "      <td>0</td>\n",
              "      <td>0</td>\n",
              "      <td>0</td>\n",
              "      <td>0</td>\n",
              "      <td>0</td>\n",
              "      <td>0</td>\n",
              "      <td>0</td>\n",
              "      <td>0</td>\n",
              "      <td>0</td>\n",
              "      <td>0</td>\n",
              "      <td>0</td>\n",
              "      <td>0</td>\n",
              "      <td>0</td>\n",
              "      <td>0</td>\n",
              "      <td>0</td>\n",
              "      <td>0</td>\n",
              "      <td>0</td>\n",
              "      <td>0</td>\n",
              "      <td>0</td>\n",
              "      <td>0</td>\n",
              "      <td>0</td>\n",
              "      <td>0</td>\n",
              "      <td>0</td>\n",
              "      <td>0</td>\n",
              "      <td>0</td>\n",
              "      <td>0</td>\n",
              "      <td>0</td>\n",
              "      <td>0</td>\n",
              "      <td>0</td>\n",
              "      <td>0</td>\n",
              "    </tr>\n",
              "  </tbody>\n",
              "</table>\n",
              "<p>5 rows × 14642 columns</p>\n",
              "</div>"
            ],
            "text/plain": [
              "   aa  aaa  aangan  aardvark  aaron  ab  ...  zuchinn  zupp  zuzu  ¼  à  übe\n",
              "0   0    0       0         0      0   0  ...        0     0     0  0  0    0\n",
              "1   0    0       0         0      0   0  ...        0     0     0  0  0    0\n",
              "2   0    0       0         0      0   0  ...        0     0     0  0  0    0\n",
              "3   0    0       0         0      0   0  ...        0     0     0  0  0    0\n",
              "4   0    0       0         0      0   0  ...        0     0     0  0  0    0\n",
              "\n",
              "[5 rows x 14642 columns]"
            ]
          },
          "metadata": {
            "tags": []
          },
          "execution_count": 58
        }
      ]
    },
    {
      "cell_type": "code",
      "metadata": {
        "id": "Qp71AP1yMlTp"
      },
      "source": [
        "y = df_comments['target'].apply(lambda x: 1 if x == 'positive' else 0).values"
      ],
      "execution_count": null,
      "outputs": []
    },
    {
      "cell_type": "code",
      "metadata": {
        "colab": {
          "base_uri": "https://localhost:8080/"
        },
        "id": "S9davFxIQECz",
        "outputId": "4088c381-3b03-405b-9e92-641fe0eb479a"
      },
      "source": [
        "X.shape"
      ],
      "execution_count": null,
      "outputs": [
        {
          "output_type": "execute_result",
          "data": {
            "text/plain": [
              "(4983, 14642)"
            ]
          },
          "metadata": {
            "tags": []
          },
          "execution_count": 60
        }
      ]
    },
    {
      "cell_type": "code",
      "metadata": {
        "colab": {
          "base_uri": "https://localhost:8080/"
        },
        "id": "aShDP-eXQI_T",
        "outputId": "76b3cbdc-c8ae-43a4-e2d0-97a3285a0e80"
      },
      "source": [
        "y.shape"
      ],
      "execution_count": null,
      "outputs": [
        {
          "output_type": "execute_result",
          "data": {
            "text/plain": [
              "(4983,)"
            ]
          },
          "metadata": {
            "tags": []
          },
          "execution_count": 61
        }
      ]
    },
    {
      "cell_type": "code",
      "metadata": {
        "id": "AUVPtXPRN8mw"
      },
      "source": [
        "X_train, X_test, y_train, y_test = train_test_split(X, y, test_size=.30, random_state=42)\n"
      ],
      "execution_count": null,
      "outputs": []
    },
    {
      "cell_type": "code",
      "metadata": {
        "id": "d_4coUbIPU_y"
      },
      "source": [
        "\n",
        "logistic = LogisticRegression()\n",
        "\n",
        "# Specifing a Logistic Regression model for sentiment classification\n",
        "logreg_param_grid = {\n",
        "    'C': np.linspace(0.1, 10, 20),\n",
        "    'penalty': ['l1', 'l2'],\n",
        "    'class_weight': ['balanced', None],\n",
        "    'random_state': [42],\n",
        "    'solver': ['liblinear']\n",
        "}\n",
        "\n",
        "# Setting up the classifiers\n",
        "set_classifiers = {\n",
        "    'LogisticRegression': {\n",
        "        'model': LogisticRegression(),\n",
        "        'params': logreg_param_grid\n",
        "    }\n",
        "}"
      ],
      "execution_count": null,
      "outputs": []
    },
    {
      "cell_type": "code",
      "metadata": {
        "id": "Uq1ROwc1DNnm"
      },
      "source": [
        "clf = RandomizedSearchCV(logistic, logreg_param_grid, random_state=1, n_iter=80, cv=5, verbose=0, n_jobs=-1)"
      ],
      "execution_count": null,
      "outputs": []
    },
    {
      "cell_type": "code",
      "metadata": {
        "colab": {
          "base_uri": "https://localhost:8080/"
        },
        "id": "TS8W7R_9Dcrq",
        "outputId": "57a8b7b8-411d-48de-b468-3628e993c2f1"
      },
      "source": [
        "best_model = clf.fit(X, y)"
      ],
      "execution_count": null,
      "outputs": [
        {
          "output_type": "stream",
          "text": [
            "/usr/local/lib/python3.6/dist-packages/joblib/externals/loky/process_executor.py:691: UserWarning:\n",
            "\n",
            "A worker stopped while some jobs were given to the executor. This can be caused by a too short worker timeout or by a memory leak.\n",
            "\n"
          ],
          "name": "stderr"
        }
      ]
    },
    {
      "cell_type": "code",
      "metadata": {
        "colab": {
          "base_uri": "https://localhost:8080/"
        },
        "id": "AdhxI3cBEAZD",
        "outputId": "f8a280c3-274d-4a05-93db-9370ce839574"
      },
      "source": [
        "print('Mejor Penalty:', best_model.best_estimator_.get_params()['penalty'])\n",
        "print('Mejor C:', best_model.best_estimator_.get_params()['C'])\n",
        "print('Mejor Class-weight:', best_model.best_estimator_.get_params()['class_weight'])"
      ],
      "execution_count": null,
      "outputs": [
        {
          "output_type": "stream",
          "text": [
            "Mejor Penalty: l2\n",
            "Mejor C: 1.142105263157895\n",
            "Mejor Class-weight: None\n"
          ],
          "name": "stdout"
        }
      ]
    },
    {
      "cell_type": "code",
      "metadata": {
        "colab": {
          "base_uri": "https://localhost:8080/"
        },
        "id": "ZJxd9bk-OlbK",
        "outputId": "3fa42b6c-5a80-4219-b134-c2bec667fe0a"
      },
      "source": [
        "logreg = LogisticRegression(C = 1.66, penalty = 'l2', class_weight = 'balanced', random_state = 42, solver='liblinear')\n",
        "logreg.fit(X_train, y_train)"
      ],
      "execution_count": null,
      "outputs": [
        {
          "output_type": "execute_result",
          "data": {
            "text/plain": [
              "LogisticRegression(C=1.66, class_weight='balanced', dual=False,\n",
              "                   fit_intercept=True, intercept_scaling=1, l1_ratio=None,\n",
              "                   max_iter=100, multi_class='auto', n_jobs=None, penalty='l2',\n",
              "                   random_state=42, solver='liblinear', tol=0.0001, verbose=0,\n",
              "                   warm_start=False)"
            ]
          },
          "metadata": {
            "tags": []
          },
          "execution_count": 67
        }
      ]
    },
    {
      "cell_type": "code",
      "metadata": {
        "id": "FCi6rqDeOnwf"
      },
      "source": [
        "log_preds = logreg.predict(X_test)"
      ],
      "execution_count": null,
      "outputs": []
    },
    {
      "cell_type": "code",
      "metadata": {
        "colab": {
          "base_uri": "https://localhost:8080/"
        },
        "id": "tz9NG-U20EuT",
        "outputId": "9671fab9-c940-4833-f0a5-0f061f60df9e"
      },
      "source": [
        "print(classification_report(y_test,log_preds))"
      ],
      "execution_count": null,
      "outputs": [
        {
          "output_type": "stream",
          "text": [
            "              precision    recall  f1-score   support\n",
            "\n",
            "           0       0.78      0.76      0.77       171\n",
            "           1       0.97      0.97      0.97      1324\n",
            "\n",
            "    accuracy                           0.95      1495\n",
            "   macro avg       0.87      0.87      0.87      1495\n",
            "weighted avg       0.95      0.95      0.95      1495\n",
            "\n"
          ],
          "name": "stdout"
        }
      ]
    },
    {
      "cell_type": "code",
      "metadata": {
        "id": "Z4DcR41HrN9W"
      },
      "source": [
        "def sentiment_analisys(texto):\n",
        "  texto = clear_breakline(texto)\n",
        "  texto = clear_hiperlinks(texto)\n",
        "  texto = clear_numbers(texto)\n",
        "  texto = clear_money(texto)\n",
        "  texto = clear_negation(texto)\n",
        "  texto = clear_special_chars(texto)\n",
        "  texto = clear_whitespaces(texto)\n",
        "  texto = [' '.join(clear_stopwords(txt)) for txt in texto]\n",
        "  texto = [' '.join(stemming_function(txt)) for txt in texto]\n",
        "\n",
        "  prueba_unigrams_vectorizer = CountVectorizer(token_pattern='(?u)\\\\b\\\\w+\\\\b')\n",
        "  prueba_unigrams = prueba_unigrams_vectorizer.fit_transform(texto)\n",
        "  prueba_unigrams_df = pd.DataFrame(prueba_unigrams.todense(), columns=prueba_unigrams_vectorizer.get_feature_names())\n",
        "\n",
        "  dic_prueba = {}\n",
        "\n",
        "  for x in X.columns:\n",
        "    if x in prueba_unigrams_df.columns:\n",
        "      dic_prueba[x] = 1\n",
        "    else:\n",
        "      dic_prueba[x] = 0\n",
        "\n",
        "  prueba_df = pd.DataFrame(dic_prueba, index = [0])\n",
        "\n",
        "  pred = logreg.predict(prueba_df)\n",
        "  proba = logreg.predict_proba(prueba_df)\n",
        "\n",
        "  fig, ax = plt.subplots(figsize=(5, 3))\n",
        "  if pred[0] == 1:\n",
        "    text = 'Positivo'\n",
        "    class_proba = 100 * round(proba[0][1], 2)\n",
        "    color = 'white'\n",
        "  else:\n",
        "    text = 'Negativo'\n",
        "    class_proba = 100 * round(proba[0][0], 2)\n",
        "    color = 'grey'\n",
        "  ax.text(0.5, 0.5, text, fontsize=50, ha='center', color=color)\n",
        "  ax.text(0.5, 0.20, str(class_proba) + '%', fontsize=14, ha='center')\n",
        "  ax.axis('off')\n",
        "  ax.set_facecolor('m')\n",
        "  ax.set_title('Sentiment Analysis', fontsize=14)\n",
        "  plt.show()"
      ],
      "execution_count": null,
      "outputs": []
    },
    {
      "cell_type": "code",
      "metadata": {
        "colab": {
          "base_uri": "https://localhost:8080/"
        },
        "id": "INDdqSpBsgTD",
        "outputId": "4a7d544f-6f1e-48ba-8b76-2556ae7717b3"
      },
      "source": [
        "#Probando un texto cualquiera\n",
        "\n",
        "#texto = [\"The worst seller! Very slow shipping\"]\n",
        "texto = [\"Excellent seller! Fast responds\"]\n",
        "sentiment_analisys(texto)"
      ],
      "execution_count": null,
      "outputs": [
        {
          "output_type": "display_data",
          "data": {
            "image/png": "[encoded data removed]",
            "text/plain": [
              "<Figure size 360x216 with 1 Axes>"
            ]
          },
          "metadata": {
            "tags": [],
            "needs_background": "light"
          }
        }
      ]
    },
    {
      "cell_type": "code",
      "metadata": {
        "colab": {
          "base_uri": "https://localhost:8080/"
        },
        "id": "fVe4O1gPvQyS",
        "outputId": "1b6fd694-1846-4378-a7de-f8b7a47ce64b"
      },
      "source": [
        "texto = [\"The worst seller! Very slow shipping\"]\n",
        "#texto = [\"Excellent seller! Fast responds\"]\n",
        "sentiment_analisys(texto)"
      ],
      "execution_count": null,
      "outputs": [
        {
          "output_type": "display_data",
          "data": {
            "image/png": "[encoded data removed]",
            "text/plain": [
              "<Figure size 360x216 with 1 Axes>"
            ]
          },
          "metadata": {
            "tags": [],
            "needs_background": "light"
          }
        }
      ]
    },
    {
      "cell_type": "code",
      "metadata": {
        "colab": {
          "base_uri": "https://localhost:8080/"
        },
        "id": "opxia_C6yWBy",
        "outputId": "f4da7524-e46f-4b2d-ec99-129870f8e8d2"
      },
      "source": [
        "texto = [\"Very nice breakfast place. Food was good. Presentation could be a little more creative, but other than that, I would eat here again. Service was good as well.\"]\n",
        "sentiment_analisys(texto)"
      ],
      "execution_count": null,
      "outputs": [
        {
          "output_type": "display_data",
          "data": {
            "image/png": "[encoded data removed]",
            "text/plain": [
              "<Figure size 360x216 with 1 Axes>"
            ]
          },
          "metadata": {
            "tags": [],
            "needs_background": "light"
          }
        }
      ]
    },
    {
      "cell_type": "markdown",
      "metadata": {
        "id": "dQJPMxrjzcE0"
      },
      "source": [
        "###NUBE DE PALABRAS"
      ]
    },
    {
      "cell_type": "code",
      "metadata": {
        "id": "zayD0ij2am0m"
      },
      "source": [
        "nube_stopwords = [' '.join(clear_stopwords(review)) for review in list(df_nube['comment'].values)]\n",
        "df_nube['stopwords_removed'] = nube_stopwords"
      ],
      "execution_count": null,
      "outputs": []
    },
    {
      "cell_type": "code",
      "metadata": {
        "colab": {
          "base_uri": "https://localhost:8080/"
        },
        "id": "nFI9ioZ1zeOg",
        "outputId": "1223b623-a33c-49c4-a3fd-8091b1c2a78a"
      },
      "source": [
        "#Lectura de la mascara a aplicar\n",
        "like_mask = np.array(Image.open(\"/content/drive/MyDrive/images/like.png\"))\n",
        "bomb_mask = np.array(Image.open(\"/content/drive/MyDrive/images/notLike.png\"))\n",
        "#angry_mask = angry_mask[:, :, -1]\n",
        "\n",
        "#aplicando mascara\n",
        "transf_like_mask = np.ndarray((like_mask.shape[0], like_mask.shape[1]), np.int32)\n",
        "for i in range(len(like_mask)):\n",
        "    transf_like_mask[i] = [255 if px == 0 else 0 for px in like_mask[i]]\n",
        "\n",
        "# Transforming angry mask\n",
        "transf_notlike_mask = np.ndarray((bomb_mask.shape[0], bomb_mask.shape[1]), np.int32)\n",
        "for i in range(len(bomb_mask)):\n",
        "    transf_notlike_mask[i] = [255 if px == 0 else 0 for px in bomb_mask[i]]\n",
        "    \n",
        "# Generating words\n",
        "pos_comments = list(df_nube.query('target == \"positive\"')['stopwords_removed'].values)\n",
        "positive_words = ' '.join(pos_comments).split(' ')\n",
        "neg_comments = list(df_nube.query('target == \"negative\"')['stopwords_removed'].values)\n",
        "negative_words = ' '.join(neg_comments).split(' ')\n",
        "\n",
        "# Using Counter for creating a dictionary counting\n",
        "positive_dict = Counter(positive_words)\n",
        "negative_dict = Counter(negative_words)\n",
        "\n",
        "# Generating wordclouds for both positive and negative comments\n",
        "positive_wc = WordCloud(width=1280, height=720, collocations=False, random_state=42, mask=transf_like_mask,\n",
        "                      colormap='Greens', background_color='white', max_words=50).generate_from_frequencies(positive_dict)\n",
        "negative_wc = WordCloud(width=1280, height=720, collocations=False, random_state=42, mask=transf_notlike_mask,\n",
        "                      colormap='Reds', background_color='white', max_words=50).generate_from_frequencies(negative_dict)\n",
        "\n",
        "# Visualizing the WC created and the total for each cuisine\n",
        "fig, axs = plt.subplots(1, 2, figsize=(20, 20))\n",
        "ax1 = axs[0]\n",
        "ax2 = axs[1]\n",
        "\n",
        "ax1.imshow(positive_wc)\n",
        "ax1.axis('off')\n",
        "ax1.set_title('Nube de palabras positivas', size=18, pad=20)\n",
        "\n",
        "ax2.imshow(negative_wc)\n",
        "ax2.axis('off')\n",
        "ax2.set_title('Nube de palabras negativas', size=18, pad=20)\n",
        "\n",
        "plt.show()"
      ],
      "execution_count": null,
      "outputs": [
        {
          "output_type": "display_data",
          "data": {
            "image/png": "[encoded data removed]",
            "text/plain": [
              "<Figure size 1440x1440 with 2 Axes>"
            ]
          },
          "metadata": {
            "tags": [],
            "needs_background": "light"
          }
        }
      ]
    },
    {
      "cell_type": "code",
      "metadata": {
        "id": "zsflU6lSs4YY"
      },
      "source": [
        ""
      ],
      "execution_count": null,
      "outputs": []
    }
  ]
}